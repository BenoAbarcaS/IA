{
  "cells": [
    {
      "cell_type": "markdown",
      "metadata": {
        "id": "YvyxxFC5P3r6"
      },
      "source": [
        "##### <img src=\"http://www.upla.cl/normasgraficas/wp-content/uploads/2016/01/logo_upla.png\" title=\"Title text\" width=\"20%\" height=\"20%\" />\n",
        "\n",
        "\n",
        "<hr style=\"height:2px;border:none\"/>\n",
        "<h1 align='center'> CIF 7359 Inteligencia Artificial I-2022 </h1>\n",
        "\n",
        "<H3 align='center'> Tarea 3 - Aprendizaje Automático </H3>\n",
        "<hr style=\"height:2px;border:none\"/>\n",
        "\n",
        "**Temas**  \n",
        "* Árboles de decisión\n",
        "* K-fold cross validation.\n",
        "* Regresión Lineal.\n",
        "* Lasso-Ridge.\n",
        "* Regresión Logística\n",
        "* Redes Neuronales\n",
        "* KNN\n",
        "* Ensamblados.\n",
        "\n",
        "\n",
        " \n",
        "\n",
        "** Formalidades **  \n",
        "* Se debe realizar un jupyter notebook con los pasos, descripciones, análisis y conclusiones.\n",
        "* La tarea es individual, la copia parcial o total será penalizada con nota 1.\n",
        "* La entrega de la tarea se realizará en el sistema <em>eaula </em> (se debe adjuntar el archivo .ipynb).\n",
        "* Fecha de Entrega: 10 de Julio 23:00. \n",
        "* El sistema no aceptarán tareas con retraso.\n",
        "* Debe estar preparad\\@ para presentar su tarea y participar en las presentaciones que se realizarán entre el Lunes 11 y el Miércoles 13 de Julio. \n",
        "\n",
        "<hr style=\"height:2px;border:none\"/>"
      ]
    },
    {
      "cell_type": "markdown",
      "metadata": {
        "id": "_5KYiCQvP3r-"
      },
      "source": [
        "<a id=\"primero\"></a>\n",
        "## 1. Prediciendo el costo de casas: House Sales in King County, USA\n",
        "\n",
        "\n",
        "En esta sección trabajaremos con un dataset conocido como House Sales in King County, USA, este se\n",
        "encuentra en Kaggle y contiene los precios en el que se vendieron distintas casas en los Estados Unidos entre\n",
        "Mayo del 2014 y Mayo del 2015. Las casas tienen distintas características que vienen descritas en el dataset,\n",
        "como la cantidad de habitaciones, cantidad de baños, número de pisos, ubicación geográfica, etc. La variable\n",
        "que nos interesará predecir a partir de los demás atributos será el precio de las casas.\n",
        "\n",
        "<img src=\"https://s3-us-west-2.amazonaws.com/uw-s3-cdn/wp-content/uploads/sites/6/2015/05/04171842/Crellin_houseforsale2_1000-300x225-300x225.jpg\" title=\"Title text\" width=\"40%\"/>\n",
        "\n",
        "\n",
        "## 1.1 Regresión Lineal Ordinaria"
      ]
    },
    {
      "cell_type": "markdown",
      "metadata": {
        "id": "DnT2w6fzP3r_"
      },
      "source": [
        "> a) Construya un dataframe con los datos a analizar descargando los datos desde la pagina de <a href=\"https://www.kaggle.com/shivachandel/kc-house-data\">Kaggle</a>  .\n",
        "```python\n",
        "import pandas as pd\n",
        "import numpy as np\n",
        "df = pd.read_csv(\"kc_house_data.csv\",sep = \",\",header = 0)\n",
        "df = df.drop(['date','zipcode'], axis=1)          \n",
        "```"
      ]
    },
    {
      "cell_type": "code",
      "execution_count": null,
      "metadata": {
        "id": "8lgIavqkP3r_"
      },
      "outputs": [],
      "source": [
        "import pandas as pd\n",
        "import numpy as np\n",
        "df = pd.read_csv(\"kc_house_data.csv\",sep = \",\",header = 0)\n",
        "df = df.drop(['date','zipcode'], axis=1) "
      ]
    },
    {
      "cell_type": "markdown",
      "metadata": {
        "id": "dlV47qYHP3sA"
      },
      "source": [
        "> b) Describa brevemente el dataset utilizar.\n",
        "```python\n",
        "df.shape\n",
        "df.info()\n",
        "df.describe()\n",
        "```"
      ]
    },
    {
      "cell_type": "code",
      "execution_count": null,
      "metadata": {
        "id": "-j8UXYCxP3sB",
        "outputId": "041ad27e-82c2-48b7-b4e2-a83a044a0c6f"
      },
      "outputs": [
        {
          "name": "stdout",
          "output_type": "stream",
          "text": [
            "<class 'pandas.core.frame.DataFrame'>\n",
            "RangeIndex: 21613 entries, 0 to 21612\n",
            "Data columns (total 19 columns):\n",
            " #   Column         Non-Null Count  Dtype  \n",
            "---  ------         --------------  -----  \n",
            " 0   id             21613 non-null  int64  \n",
            " 1   price          21613 non-null  float64\n",
            " 2   bedrooms       21613 non-null  int64  \n",
            " 3   bathrooms      21613 non-null  float64\n",
            " 4   sqft_living    21613 non-null  int64  \n",
            " 5   sqft_lot       21613 non-null  int64  \n",
            " 6   floors         21613 non-null  float64\n",
            " 7   waterfront     21613 non-null  int64  \n",
            " 8   view           21613 non-null  int64  \n",
            " 9   condition      21613 non-null  int64  \n",
            " 10  grade          21613 non-null  int64  \n",
            " 11  sqft_above     21611 non-null  float64\n",
            " 12  sqft_basement  21613 non-null  int64  \n",
            " 13  yr_built       21613 non-null  int64  \n",
            " 14  yr_renovated   21613 non-null  int64  \n",
            " 15  lat            21613 non-null  float64\n",
            " 16  long           21613 non-null  float64\n",
            " 17  sqft_living15  21613 non-null  int64  \n",
            " 18  sqft_lot15     21613 non-null  int64  \n",
            "dtypes: float64(6), int64(13)\n",
            "memory usage: 3.1 MB\n"
          ]
        },
        {
          "data": {
            "text/html": [
              "<div>\n",
              "<style scoped>\n",
              "    .dataframe tbody tr th:only-of-type {\n",
              "        vertical-align: middle;\n",
              "    }\n",
              "\n",
              "    .dataframe tbody tr th {\n",
              "        vertical-align: top;\n",
              "    }\n",
              "\n",
              "    .dataframe thead th {\n",
              "        text-align: right;\n",
              "    }\n",
              "</style>\n",
              "<table border=\"1\" class=\"dataframe\">\n",
              "  <thead>\n",
              "    <tr style=\"text-align: right;\">\n",
              "      <th></th>\n",
              "      <th>id</th>\n",
              "      <th>price</th>\n",
              "      <th>bedrooms</th>\n",
              "      <th>bathrooms</th>\n",
              "      <th>sqft_living</th>\n",
              "      <th>sqft_lot</th>\n",
              "      <th>floors</th>\n",
              "      <th>waterfront</th>\n",
              "      <th>view</th>\n",
              "      <th>condition</th>\n",
              "      <th>grade</th>\n",
              "      <th>sqft_above</th>\n",
              "      <th>sqft_basement</th>\n",
              "      <th>yr_built</th>\n",
              "      <th>yr_renovated</th>\n",
              "      <th>lat</th>\n",
              "      <th>long</th>\n",
              "      <th>sqft_living15</th>\n",
              "      <th>sqft_lot15</th>\n",
              "    </tr>\n",
              "  </thead>\n",
              "  <tbody>\n",
              "    <tr>\n",
              "      <th>count</th>\n",
              "      <td>2.161300e+04</td>\n",
              "      <td>2.161300e+04</td>\n",
              "      <td>21613.000000</td>\n",
              "      <td>21613.000000</td>\n",
              "      <td>21613.000000</td>\n",
              "      <td>2.161300e+04</td>\n",
              "      <td>21613.000000</td>\n",
              "      <td>21613.000000</td>\n",
              "      <td>21613.000000</td>\n",
              "      <td>21613.000000</td>\n",
              "      <td>21613.000000</td>\n",
              "      <td>21611.000000</td>\n",
              "      <td>21613.000000</td>\n",
              "      <td>21613.000000</td>\n",
              "      <td>21613.000000</td>\n",
              "      <td>21613.000000</td>\n",
              "      <td>21613.000000</td>\n",
              "      <td>21613.000000</td>\n",
              "      <td>21613.000000</td>\n",
              "    </tr>\n",
              "    <tr>\n",
              "      <th>mean</th>\n",
              "      <td>4.580302e+09</td>\n",
              "      <td>5.400881e+05</td>\n",
              "      <td>3.370842</td>\n",
              "      <td>2.114757</td>\n",
              "      <td>2079.899736</td>\n",
              "      <td>1.510697e+04</td>\n",
              "      <td>1.494309</td>\n",
              "      <td>0.007542</td>\n",
              "      <td>0.234303</td>\n",
              "      <td>3.409430</td>\n",
              "      <td>7.656873</td>\n",
              "      <td>1788.396095</td>\n",
              "      <td>291.509045</td>\n",
              "      <td>1971.005136</td>\n",
              "      <td>84.402258</td>\n",
              "      <td>47.560053</td>\n",
              "      <td>-122.213896</td>\n",
              "      <td>1986.552492</td>\n",
              "      <td>12768.455652</td>\n",
              "    </tr>\n",
              "    <tr>\n",
              "      <th>std</th>\n",
              "      <td>2.876566e+09</td>\n",
              "      <td>3.671272e+05</td>\n",
              "      <td>0.930062</td>\n",
              "      <td>0.770163</td>\n",
              "      <td>918.440897</td>\n",
              "      <td>4.142051e+04</td>\n",
              "      <td>0.539989</td>\n",
              "      <td>0.086517</td>\n",
              "      <td>0.766318</td>\n",
              "      <td>0.650743</td>\n",
              "      <td>1.175459</td>\n",
              "      <td>828.128162</td>\n",
              "      <td>442.575043</td>\n",
              "      <td>29.373411</td>\n",
              "      <td>401.679240</td>\n",
              "      <td>0.138564</td>\n",
              "      <td>0.140828</td>\n",
              "      <td>685.391304</td>\n",
              "      <td>27304.179631</td>\n",
              "    </tr>\n",
              "    <tr>\n",
              "      <th>min</th>\n",
              "      <td>1.000102e+06</td>\n",
              "      <td>7.500000e+04</td>\n",
              "      <td>0.000000</td>\n",
              "      <td>0.000000</td>\n",
              "      <td>290.000000</td>\n",
              "      <td>5.200000e+02</td>\n",
              "      <td>1.000000</td>\n",
              "      <td>0.000000</td>\n",
              "      <td>0.000000</td>\n",
              "      <td>1.000000</td>\n",
              "      <td>1.000000</td>\n",
              "      <td>290.000000</td>\n",
              "      <td>0.000000</td>\n",
              "      <td>1900.000000</td>\n",
              "      <td>0.000000</td>\n",
              "      <td>47.155900</td>\n",
              "      <td>-122.519000</td>\n",
              "      <td>399.000000</td>\n",
              "      <td>651.000000</td>\n",
              "    </tr>\n",
              "    <tr>\n",
              "      <th>25%</th>\n",
              "      <td>2.123049e+09</td>\n",
              "      <td>3.219500e+05</td>\n",
              "      <td>3.000000</td>\n",
              "      <td>1.750000</td>\n",
              "      <td>1427.000000</td>\n",
              "      <td>5.040000e+03</td>\n",
              "      <td>1.000000</td>\n",
              "      <td>0.000000</td>\n",
              "      <td>0.000000</td>\n",
              "      <td>3.000000</td>\n",
              "      <td>7.000000</td>\n",
              "      <td>1190.000000</td>\n",
              "      <td>0.000000</td>\n",
              "      <td>1951.000000</td>\n",
              "      <td>0.000000</td>\n",
              "      <td>47.471000</td>\n",
              "      <td>-122.328000</td>\n",
              "      <td>1490.000000</td>\n",
              "      <td>5100.000000</td>\n",
              "    </tr>\n",
              "    <tr>\n",
              "      <th>50%</th>\n",
              "      <td>3.904930e+09</td>\n",
              "      <td>4.500000e+05</td>\n",
              "      <td>3.000000</td>\n",
              "      <td>2.250000</td>\n",
              "      <td>1910.000000</td>\n",
              "      <td>7.618000e+03</td>\n",
              "      <td>1.500000</td>\n",
              "      <td>0.000000</td>\n",
              "      <td>0.000000</td>\n",
              "      <td>3.000000</td>\n",
              "      <td>7.000000</td>\n",
              "      <td>1560.000000</td>\n",
              "      <td>0.000000</td>\n",
              "      <td>1975.000000</td>\n",
              "      <td>0.000000</td>\n",
              "      <td>47.571800</td>\n",
              "      <td>-122.230000</td>\n",
              "      <td>1840.000000</td>\n",
              "      <td>7620.000000</td>\n",
              "    </tr>\n",
              "    <tr>\n",
              "      <th>75%</th>\n",
              "      <td>7.308900e+09</td>\n",
              "      <td>6.450000e+05</td>\n",
              "      <td>4.000000</td>\n",
              "      <td>2.500000</td>\n",
              "      <td>2550.000000</td>\n",
              "      <td>1.068800e+04</td>\n",
              "      <td>2.000000</td>\n",
              "      <td>0.000000</td>\n",
              "      <td>0.000000</td>\n",
              "      <td>4.000000</td>\n",
              "      <td>8.000000</td>\n",
              "      <td>2210.000000</td>\n",
              "      <td>560.000000</td>\n",
              "      <td>1997.000000</td>\n",
              "      <td>0.000000</td>\n",
              "      <td>47.678000</td>\n",
              "      <td>-122.125000</td>\n",
              "      <td>2360.000000</td>\n",
              "      <td>10083.000000</td>\n",
              "    </tr>\n",
              "    <tr>\n",
              "      <th>max</th>\n",
              "      <td>9.900000e+09</td>\n",
              "      <td>7.700000e+06</td>\n",
              "      <td>33.000000</td>\n",
              "      <td>8.000000</td>\n",
              "      <td>13540.000000</td>\n",
              "      <td>1.651359e+06</td>\n",
              "      <td>3.500000</td>\n",
              "      <td>1.000000</td>\n",
              "      <td>4.000000</td>\n",
              "      <td>5.000000</td>\n",
              "      <td>13.000000</td>\n",
              "      <td>9410.000000</td>\n",
              "      <td>4820.000000</td>\n",
              "      <td>2015.000000</td>\n",
              "      <td>2015.000000</td>\n",
              "      <td>47.777600</td>\n",
              "      <td>-121.315000</td>\n",
              "      <td>6210.000000</td>\n",
              "      <td>871200.000000</td>\n",
              "    </tr>\n",
              "  </tbody>\n",
              "</table>\n",
              "</div>"
            ],
            "text/plain": [
              "                 id         price      bedrooms     bathrooms   sqft_living  \\\n",
              "count  2.161300e+04  2.161300e+04  21613.000000  21613.000000  21613.000000   \n",
              "mean   4.580302e+09  5.400881e+05      3.370842      2.114757   2079.899736   \n",
              "std    2.876566e+09  3.671272e+05      0.930062      0.770163    918.440897   \n",
              "min    1.000102e+06  7.500000e+04      0.000000      0.000000    290.000000   \n",
              "25%    2.123049e+09  3.219500e+05      3.000000      1.750000   1427.000000   \n",
              "50%    3.904930e+09  4.500000e+05      3.000000      2.250000   1910.000000   \n",
              "75%    7.308900e+09  6.450000e+05      4.000000      2.500000   2550.000000   \n",
              "max    9.900000e+09  7.700000e+06     33.000000      8.000000  13540.000000   \n",
              "\n",
              "           sqft_lot        floors    waterfront          view     condition  \\\n",
              "count  2.161300e+04  21613.000000  21613.000000  21613.000000  21613.000000   \n",
              "mean   1.510697e+04      1.494309      0.007542      0.234303      3.409430   \n",
              "std    4.142051e+04      0.539989      0.086517      0.766318      0.650743   \n",
              "min    5.200000e+02      1.000000      0.000000      0.000000      1.000000   \n",
              "25%    5.040000e+03      1.000000      0.000000      0.000000      3.000000   \n",
              "50%    7.618000e+03      1.500000      0.000000      0.000000      3.000000   \n",
              "75%    1.068800e+04      2.000000      0.000000      0.000000      4.000000   \n",
              "max    1.651359e+06      3.500000      1.000000      4.000000      5.000000   \n",
              "\n",
              "              grade    sqft_above  sqft_basement      yr_built  yr_renovated  \\\n",
              "count  21613.000000  21611.000000   21613.000000  21613.000000  21613.000000   \n",
              "mean       7.656873   1788.396095     291.509045   1971.005136     84.402258   \n",
              "std        1.175459    828.128162     442.575043     29.373411    401.679240   \n",
              "min        1.000000    290.000000       0.000000   1900.000000      0.000000   \n",
              "25%        7.000000   1190.000000       0.000000   1951.000000      0.000000   \n",
              "50%        7.000000   1560.000000       0.000000   1975.000000      0.000000   \n",
              "75%        8.000000   2210.000000     560.000000   1997.000000      0.000000   \n",
              "max       13.000000   9410.000000    4820.000000   2015.000000   2015.000000   \n",
              "\n",
              "                lat          long  sqft_living15     sqft_lot15  \n",
              "count  21613.000000  21613.000000   21613.000000   21613.000000  \n",
              "mean      47.560053   -122.213896    1986.552492   12768.455652  \n",
              "std        0.138564      0.140828     685.391304   27304.179631  \n",
              "min       47.155900   -122.519000     399.000000     651.000000  \n",
              "25%       47.471000   -122.328000    1490.000000    5100.000000  \n",
              "50%       47.571800   -122.230000    1840.000000    7620.000000  \n",
              "75%       47.678000   -122.125000    2360.000000   10083.000000  \n",
              "max       47.777600   -121.315000    6210.000000  871200.000000  "
            ]
          },
          "execution_count": 2,
          "metadata": {},
          "output_type": "execute_result"
        }
      ],
      "source": [
        "df.shape\n",
        "df.info()\n",
        "df.describe()"
      ]
    },
    {
      "cell_type": "markdown",
      "metadata": {
        "id": "SLaoZL3MP3sC"
      },
      "source": [
        "1) dataframe.shape arroja el tamaño del df, una tupla con los valores del tamaño (filas, columnas)  \n",
        "2) dataframe.info() imprime valores sobre un df, indice (#), columnas (Column), Valores no nulos (No-Null), tipo (Dtype), otros opcionales como el uso en memoria.  \n",
        "3) dataframe.describe() Muestra una serie de estadisticas descriptivas sobre un df, hace una serie de calculos sobre las distintas columnas del df."
      ]
    },
    {
      "cell_type": "markdown",
      "metadata": {
        "id": "Frt-8Ou1P3sD"
      },
      "source": [
        "df.info() columna 11 (sqft_above) nos señalan la falta de dos datos, estos deberan ser rellenados con un valor no inventado y equivalente (0), para asi evitar el error de realizar la progresion lineal con columnas NaN"
      ]
    },
    {
      "cell_type": "code",
      "execution_count": null,
      "metadata": {
        "id": "1GvkbvzwP3sD"
      },
      "outputs": [],
      "source": [
        "dFixed=df\n",
        "dFixed['sqft_above']=dFixed['sqft_above'].replace(np.nan,0)"
      ]
    },
    {
      "cell_type": "code",
      "execution_count": null,
      "metadata": {
        "id": "cBvgPQgYP3sE",
        "outputId": "e8e189a1-87cb-4a97-bb40-e108c6327dd0"
      },
      "outputs": [
        {
          "name": "stdout",
          "output_type": "stream",
          "text": [
            "<class 'pandas.core.frame.DataFrame'>\n",
            "RangeIndex: 21613 entries, 0 to 21612\n",
            "Data columns (total 19 columns):\n",
            " #   Column         Non-Null Count  Dtype  \n",
            "---  ------         --------------  -----  \n",
            " 0   id             21613 non-null  int64  \n",
            " 1   price          21613 non-null  float64\n",
            " 2   bedrooms       21613 non-null  int64  \n",
            " 3   bathrooms      21613 non-null  float64\n",
            " 4   sqft_living    21613 non-null  int64  \n",
            " 5   sqft_lot       21613 non-null  int64  \n",
            " 6   floors         21613 non-null  float64\n",
            " 7   waterfront     21613 non-null  int64  \n",
            " 8   view           21613 non-null  int64  \n",
            " 9   condition      21613 non-null  int64  \n",
            " 10  grade          21613 non-null  int64  \n",
            " 11  sqft_above     21613 non-null  float64\n",
            " 12  sqft_basement  21613 non-null  int64  \n",
            " 13  yr_built       21613 non-null  int64  \n",
            " 14  yr_renovated   21613 non-null  int64  \n",
            " 15  lat            21613 non-null  float64\n",
            " 16  long           21613 non-null  float64\n",
            " 17  sqft_living15  21613 non-null  int64  \n",
            " 18  sqft_lot15     21613 non-null  int64  \n",
            "dtypes: float64(6), int64(13)\n",
            "memory usage: 3.1 MB\n"
          ]
        }
      ],
      "source": [
        "dFixed.info()"
      ]
    },
    {
      "cell_type": "markdown",
      "metadata": {
        "id": "nnejHW2YP3sE"
      },
      "source": [
        "Como podemos ver, ahora la columna 11 ya no posee datos nulos"
      ]
    },
    {
      "cell_type": "markdown",
      "metadata": {
        "id": "avKvJECdP3sE"
      },
      "source": [
        "> c) Normalice los datos antes de trabajar. Explique la importancia\\/conveniencia de realizar esta operación.\n",
        "```python\n",
        "from sklearn.preprocessing import StandardScaler\n",
        "scaler = StandardScaler()\n",
        "df_scaled = pd.DataFrame(scaler.fit_transform(df), columns=df.columns)\n",
        "df_scaled['price'] = np.log(df['price'])\n",
        "```"
      ]
    },
    {
      "cell_type": "markdown",
      "metadata": {
        "id": "b-Ok9GvsP3sF"
      },
      "source": [
        "La normalización de los datos es algo que se debe de hacer cuando los datos son muy heteregeneos (en tipo o tamaño) para asi evitar que ciertos datos, por su naturaleza misma y no por el investigador, tome más valor que el dado."
      ]
    },
    {
      "cell_type": "code",
      "execution_count": null,
      "metadata": {
        "id": "ym2QQYXLP3sF"
      },
      "outputs": [],
      "source": [
        "from sklearn.preprocessing import StandardScaler\n",
        "scaler = StandardScaler()\n",
        "df_scaled = pd.DataFrame(scaler.fit_transform(df), columns=df.columns)\n",
        "df_scaled['price'] = np.log(df['price'])"
      ]
    },
    {
      "cell_type": "code",
      "execution_count": null,
      "metadata": {
        "id": "BEcMSpD0P3sF",
        "outputId": "c3a85ebd-b881-4e39-fb22-28cbb36a0af0"
      },
      "outputs": [
        {
          "data": {
            "text/html": [
              "<div>\n",
              "<style scoped>\n",
              "    .dataframe tbody tr th:only-of-type {\n",
              "        vertical-align: middle;\n",
              "    }\n",
              "\n",
              "    .dataframe tbody tr th {\n",
              "        vertical-align: top;\n",
              "    }\n",
              "\n",
              "    .dataframe thead th {\n",
              "        text-align: right;\n",
              "    }\n",
              "</style>\n",
              "<table border=\"1\" class=\"dataframe\">\n",
              "  <thead>\n",
              "    <tr style=\"text-align: right;\">\n",
              "      <th></th>\n",
              "      <th>id</th>\n",
              "      <th>price</th>\n",
              "      <th>bedrooms</th>\n",
              "      <th>bathrooms</th>\n",
              "      <th>sqft_living</th>\n",
              "      <th>sqft_lot</th>\n",
              "      <th>floors</th>\n",
              "      <th>waterfront</th>\n",
              "      <th>view</th>\n",
              "      <th>condition</th>\n",
              "      <th>grade</th>\n",
              "      <th>sqft_above</th>\n",
              "      <th>sqft_basement</th>\n",
              "      <th>yr_built</th>\n",
              "      <th>yr_renovated</th>\n",
              "      <th>lat</th>\n",
              "      <th>long</th>\n",
              "      <th>sqft_living15</th>\n",
              "      <th>sqft_lot15</th>\n",
              "    </tr>\n",
              "  </thead>\n",
              "  <tbody>\n",
              "    <tr>\n",
              "      <th>0</th>\n",
              "      <td>0.886146</td>\n",
              "      <td>12.309982</td>\n",
              "      <td>-0.398737</td>\n",
              "      <td>-1.447464</td>\n",
              "      <td>-0.979835</td>\n",
              "      <td>-0.228321</td>\n",
              "      <td>-0.915427</td>\n",
              "      <td>-0.087173</td>\n",
              "      <td>-0.305759</td>\n",
              "      <td>-0.629187</td>\n",
              "      <td>-0.558836</td>\n",
              "      <td>-0.734357</td>\n",
              "      <td>-0.658681</td>\n",
              "      <td>-0.544898</td>\n",
              "      <td>-0.210128</td>\n",
              "      <td>-0.352572</td>\n",
              "      <td>-0.306079</td>\n",
              "      <td>-0.943355</td>\n",
              "      <td>-0.260715</td>\n",
              "    </tr>\n",
              "    <tr>\n",
              "      <th>1</th>\n",
              "      <td>0.637511</td>\n",
              "      <td>13.195614</td>\n",
              "      <td>-0.398737</td>\n",
              "      <td>0.175607</td>\n",
              "      <td>0.533634</td>\n",
              "      <td>-0.189885</td>\n",
              "      <td>0.936506</td>\n",
              "      <td>-0.087173</td>\n",
              "      <td>-0.305759</td>\n",
              "      <td>-0.629187</td>\n",
              "      <td>-0.558836</td>\n",
              "      <td>0.460935</td>\n",
              "      <td>0.245141</td>\n",
              "      <td>-0.681079</td>\n",
              "      <td>4.746678</td>\n",
              "      <td>1.161568</td>\n",
              "      <td>-0.746341</td>\n",
              "      <td>-0.432686</td>\n",
              "      <td>-0.187868</td>\n",
              "    </tr>\n",
              "    <tr>\n",
              "      <th>2</th>\n",
              "      <td>0.365444</td>\n",
              "      <td>12.100712</td>\n",
              "      <td>-1.473959</td>\n",
              "      <td>-1.447464</td>\n",
              "      <td>-1.426254</td>\n",
              "      <td>-0.123298</td>\n",
              "      <td>-0.915427</td>\n",
              "      <td>-0.087173</td>\n",
              "      <td>-0.305759</td>\n",
              "      <td>-0.629187</td>\n",
              "      <td>-1.409587</td>\n",
              "      <td>-1.229377</td>\n",
              "      <td>-0.658681</td>\n",
              "      <td>-1.293892</td>\n",
              "      <td>-0.210128</td>\n",
              "      <td>1.283537</td>\n",
              "      <td>-0.135655</td>\n",
              "      <td>1.070140</td>\n",
              "      <td>-0.172375</td>\n",
              "    </tr>\n",
              "    <tr>\n",
              "      <th>3</th>\n",
              "      <td>-0.727656</td>\n",
              "      <td>13.311329</td>\n",
              "      <td>0.676485</td>\n",
              "      <td>1.149449</td>\n",
              "      <td>-0.130550</td>\n",
              "      <td>-0.244014</td>\n",
              "      <td>-0.915427</td>\n",
              "      <td>-0.087173</td>\n",
              "      <td>-0.305759</td>\n",
              "      <td>2.444294</td>\n",
              "      <td>-0.558836</td>\n",
              "      <td>-0.891314</td>\n",
              "      <td>1.397515</td>\n",
              "      <td>-0.204446</td>\n",
              "      <td>-0.210128</td>\n",
              "      <td>-0.283288</td>\n",
              "      <td>-1.271816</td>\n",
              "      <td>-0.914174</td>\n",
              "      <td>-0.284522</td>\n",
              "    </tr>\n",
              "    <tr>\n",
              "      <th>4</th>\n",
              "      <td>-0.912881</td>\n",
              "      <td>13.142166</td>\n",
              "      <td>-0.398737</td>\n",
              "      <td>-0.149007</td>\n",
              "      <td>-0.435422</td>\n",
              "      <td>-0.169653</td>\n",
              "      <td>-0.915427</td>\n",
              "      <td>-0.087173</td>\n",
              "      <td>-0.305759</td>\n",
              "      <td>-0.629187</td>\n",
              "      <td>0.291916</td>\n",
              "      <td>-0.130674</td>\n",
              "      <td>-0.658681</td>\n",
              "      <td>0.544548</td>\n",
              "      <td>-0.210128</td>\n",
              "      <td>0.409550</td>\n",
              "      <td>1.199335</td>\n",
              "      <td>-0.272190</td>\n",
              "      <td>-0.192849</td>\n",
              "    </tr>\n",
              "    <tr>\n",
              "      <th>...</th>\n",
              "      <td>...</td>\n",
              "      <td>...</td>\n",
              "      <td>...</td>\n",
              "      <td>...</td>\n",
              "      <td>...</td>\n",
              "      <td>...</td>\n",
              "      <td>...</td>\n",
              "      <td>...</td>\n",
              "      <td>...</td>\n",
              "      <td>...</td>\n",
              "      <td>...</td>\n",
              "      <td>...</td>\n",
              "      <td>...</td>\n",
              "      <td>...</td>\n",
              "      <td>...</td>\n",
              "      <td>...</td>\n",
              "      <td>...</td>\n",
              "      <td>...</td>\n",
              "      <td>...</td>\n",
              "    </tr>\n",
              "    <tr>\n",
              "      <th>21608</th>\n",
              "      <td>-1.500888</td>\n",
              "      <td>12.793859</td>\n",
              "      <td>-0.398737</td>\n",
              "      <td>0.500221</td>\n",
              "      <td>-0.598746</td>\n",
              "      <td>-0.337424</td>\n",
              "      <td>2.788439</td>\n",
              "      <td>-0.087173</td>\n",
              "      <td>-0.305759</td>\n",
              "      <td>-0.629187</td>\n",
              "      <td>0.291916</td>\n",
              "      <td>-0.311779</td>\n",
              "      <td>-0.658681</td>\n",
              "      <td>1.293542</td>\n",
              "      <td>-0.210128</td>\n",
              "      <td>1.004958</td>\n",
              "      <td>-0.938069</td>\n",
              "      <td>-0.666135</td>\n",
              "      <td>-0.412381</td>\n",
              "    </tr>\n",
              "    <tr>\n",
              "      <th>21609</th>\n",
              "      <td>0.702159</td>\n",
              "      <td>12.899220</td>\n",
              "      <td>0.676485</td>\n",
              "      <td>0.500221</td>\n",
              "      <td>0.250539</td>\n",
              "      <td>-0.224386</td>\n",
              "      <td>0.936506</td>\n",
              "      <td>-0.087173</td>\n",
              "      <td>-0.305759</td>\n",
              "      <td>-0.629187</td>\n",
              "      <td>0.291916</td>\n",
              "      <td>0.629967</td>\n",
              "      <td>-0.658681</td>\n",
              "      <td>1.463768</td>\n",
              "      <td>-0.210128</td>\n",
              "      <td>-0.356180</td>\n",
              "      <td>-1.051685</td>\n",
              "      <td>-0.228419</td>\n",
              "      <td>-0.203946</td>\n",
              "    </tr>\n",
              "    <tr>\n",
              "      <th>21610</th>\n",
              "      <td>-1.062751</td>\n",
              "      <td>12.904459</td>\n",
              "      <td>-1.473959</td>\n",
              "      <td>-1.772078</td>\n",
              "      <td>-1.154047</td>\n",
              "      <td>-0.332137</td>\n",
              "      <td>0.936506</td>\n",
              "      <td>-0.087173</td>\n",
              "      <td>-0.305759</td>\n",
              "      <td>-0.629187</td>\n",
              "      <td>-0.558836</td>\n",
              "      <td>-0.927535</td>\n",
              "      <td>-0.658681</td>\n",
              "      <td>1.293542</td>\n",
              "      <td>-0.210128</td>\n",
              "      <td>0.247888</td>\n",
              "      <td>-0.604321</td>\n",
              "      <td>-1.410253</td>\n",
              "      <td>-0.394141</td>\n",
              "    </tr>\n",
              "    <tr>\n",
              "      <th>21611</th>\n",
              "      <td>-1.491046</td>\n",
              "      <td>12.899220</td>\n",
              "      <td>-0.398737</td>\n",
              "      <td>0.500221</td>\n",
              "      <td>-0.522528</td>\n",
              "      <td>-0.307076</td>\n",
              "      <td>0.936506</td>\n",
              "      <td>-0.087173</td>\n",
              "      <td>-0.305759</td>\n",
              "      <td>-0.629187</td>\n",
              "      <td>0.291916</td>\n",
              "      <td>-0.227263</td>\n",
              "      <td>-0.658681</td>\n",
              "      <td>1.123316</td>\n",
              "      <td>-0.210128</td>\n",
              "      <td>-0.184414</td>\n",
              "      <td>1.028910</td>\n",
              "      <td>-0.841221</td>\n",
              "      <td>-0.420511</td>\n",
              "    </tr>\n",
              "    <tr>\n",
              "      <th>21612</th>\n",
              "      <td>-1.062751</td>\n",
              "      <td>12.691580</td>\n",
              "      <td>-1.473959</td>\n",
              "      <td>-1.772078</td>\n",
              "      <td>-1.154047</td>\n",
              "      <td>-0.338752</td>\n",
              "      <td>0.936506</td>\n",
              "      <td>-0.087173</td>\n",
              "      <td>-0.305759</td>\n",
              "      <td>-0.629187</td>\n",
              "      <td>-0.558836</td>\n",
              "      <td>-0.927535</td>\n",
              "      <td>-0.658681</td>\n",
              "      <td>1.259497</td>\n",
              "      <td>-0.210128</td>\n",
              "      <td>0.245723</td>\n",
              "      <td>-0.604321</td>\n",
              "      <td>-1.410253</td>\n",
              "      <td>-0.417948</td>\n",
              "    </tr>\n",
              "  </tbody>\n",
              "</table>\n",
              "<p>21613 rows × 19 columns</p>\n",
              "</div>"
            ],
            "text/plain": [
              "             id      price  bedrooms  bathrooms  sqft_living  sqft_lot  \\\n",
              "0      0.886146  12.309982 -0.398737  -1.447464    -0.979835 -0.228321   \n",
              "1      0.637511  13.195614 -0.398737   0.175607     0.533634 -0.189885   \n",
              "2      0.365444  12.100712 -1.473959  -1.447464    -1.426254 -0.123298   \n",
              "3     -0.727656  13.311329  0.676485   1.149449    -0.130550 -0.244014   \n",
              "4     -0.912881  13.142166 -0.398737  -0.149007    -0.435422 -0.169653   \n",
              "...         ...        ...       ...        ...          ...       ...   \n",
              "21608 -1.500888  12.793859 -0.398737   0.500221    -0.598746 -0.337424   \n",
              "21609  0.702159  12.899220  0.676485   0.500221     0.250539 -0.224386   \n",
              "21610 -1.062751  12.904459 -1.473959  -1.772078    -1.154047 -0.332137   \n",
              "21611 -1.491046  12.899220 -0.398737   0.500221    -0.522528 -0.307076   \n",
              "21612 -1.062751  12.691580 -1.473959  -1.772078    -1.154047 -0.338752   \n",
              "\n",
              "         floors  waterfront      view  condition     grade  sqft_above  \\\n",
              "0     -0.915427   -0.087173 -0.305759  -0.629187 -0.558836   -0.734357   \n",
              "1      0.936506   -0.087173 -0.305759  -0.629187 -0.558836    0.460935   \n",
              "2     -0.915427   -0.087173 -0.305759  -0.629187 -1.409587   -1.229377   \n",
              "3     -0.915427   -0.087173 -0.305759   2.444294 -0.558836   -0.891314   \n",
              "4     -0.915427   -0.087173 -0.305759  -0.629187  0.291916   -0.130674   \n",
              "...         ...         ...       ...        ...       ...         ...   \n",
              "21608  2.788439   -0.087173 -0.305759  -0.629187  0.291916   -0.311779   \n",
              "21609  0.936506   -0.087173 -0.305759  -0.629187  0.291916    0.629967   \n",
              "21610  0.936506   -0.087173 -0.305759  -0.629187 -0.558836   -0.927535   \n",
              "21611  0.936506   -0.087173 -0.305759  -0.629187  0.291916   -0.227263   \n",
              "21612  0.936506   -0.087173 -0.305759  -0.629187 -0.558836   -0.927535   \n",
              "\n",
              "       sqft_basement  yr_built  yr_renovated       lat      long  \\\n",
              "0          -0.658681 -0.544898     -0.210128 -0.352572 -0.306079   \n",
              "1           0.245141 -0.681079      4.746678  1.161568 -0.746341   \n",
              "2          -0.658681 -1.293892     -0.210128  1.283537 -0.135655   \n",
              "3           1.397515 -0.204446     -0.210128 -0.283288 -1.271816   \n",
              "4          -0.658681  0.544548     -0.210128  0.409550  1.199335   \n",
              "...              ...       ...           ...       ...       ...   \n",
              "21608      -0.658681  1.293542     -0.210128  1.004958 -0.938069   \n",
              "21609      -0.658681  1.463768     -0.210128 -0.356180 -1.051685   \n",
              "21610      -0.658681  1.293542     -0.210128  0.247888 -0.604321   \n",
              "21611      -0.658681  1.123316     -0.210128 -0.184414  1.028910   \n",
              "21612      -0.658681  1.259497     -0.210128  0.245723 -0.604321   \n",
              "\n",
              "       sqft_living15  sqft_lot15  \n",
              "0          -0.943355   -0.260715  \n",
              "1          -0.432686   -0.187868  \n",
              "2           1.070140   -0.172375  \n",
              "3          -0.914174   -0.284522  \n",
              "4          -0.272190   -0.192849  \n",
              "...              ...         ...  \n",
              "21608      -0.666135   -0.412381  \n",
              "21609      -0.228419   -0.203946  \n",
              "21610      -1.410253   -0.394141  \n",
              "21611      -0.841221   -0.420511  \n",
              "21612      -1.410253   -0.417948  \n",
              "\n",
              "[21613 rows x 19 columns]"
            ]
          },
          "execution_count": 6,
          "metadata": {},
          "output_type": "execute_result"
        }
      ],
      "source": [
        "df_scaled"
      ]
    },
    {
      "cell_type": "markdown",
      "metadata": {
        "id": "cSkWNAKnP3sF"
      },
      "source": [
        "> d) Realice una regresión lineal de mínimos cuadrados básica. Explique la importancia\\/conveniencia de la línea\n",
        "4 y los argumentos que se deben entregar a la función que implementa la regresión lineal.\n",
        "```python\n",
        "import sklearn.linear_model as lm\n",
        "X = df_scaled.ix[:,1:]\n",
        "N = X.shape[0]\n",
        "X.insert(X.shape[1], 'intercept', np.ones(N)) #linea 4\n",
        "y = df_scaled['price']\n",
        "mask = np.zeros(len(X))\n",
        "limit = int(len(X)*0.7)\n",
        "mask[:limit] = 1\n",
        "istrain = mask== 1\n",
        "Xtrain = X[istrain]\n",
        "ytrain = y[istrain]\n",
        "Xtest = X[np.logical_not(istrain)]\n",
        "ytest = y[np.logical_not(istrain)]\n",
        "linreg = lm.LinearRegression(fit_intercept = False)\n",
        "linreg.fit(Xtrain, ytrain)\n",
        "```"
      ]
    },
    {
      "cell_type": "markdown",
      "metadata": {
        "id": "_d5djnZ8P3sG"
      },
      "source": [
        "1) ix es una funcion obsoleta por lo cual señala que el \"Objeto df no tiene el atributo ix\"\n",
        "2) a X se le agrega shape(1) que es el numero de columnas, mientras que np.ones(N) rellenara con N la matriz, siendo N shape(0) da el primer elemento en esa tupla"
      ]
    },
    {
      "cell_type": "code",
      "execution_count": null,
      "metadata": {
        "id": "OvpzSuNVP3sG",
        "outputId": "f53be0a3-6297-4bca-cd0d-60a9521915a3"
      },
      "outputs": [
        {
          "data": {
            "text/plain": [
              "LinearRegression(fit_intercept=False)"
            ]
          },
          "execution_count": 7,
          "metadata": {},
          "output_type": "execute_result"
        }
      ],
      "source": [
        "import sklearn.linear_model as lm\n",
        "X = df_scaled.iloc[:,2:]\n",
        "N = X.shape[0]\n",
        "X.insert(X.shape[1], 'intercept', np.ones(N)) #linea 4\n",
        "y = df_scaled['price']\n",
        "mask = np.zeros(len(X))\n",
        "limit = int(len(X)*0.7)\n",
        "mask[:limit] = 1\n",
        "istrain = mask== 1\n",
        "Xtrain = X[istrain]\n",
        "ytrain = y[istrain]\n",
        "Xtest = X[np.logical_not(istrain)]\n",
        "ytest = y[np.logical_not(istrain)]\n",
        "linreg = lm.LinearRegression(fit_intercept = False)\n",
        "linreg.fit(Xtrain, ytrain)"
      ]
    },
    {
      "cell_type": "markdown",
      "metadata": {
        "id": "28QtBLDJP3sG"
      },
      "source": [
        "En el caso de no haber reemplazado los datos NaN con valores (0), este ejercicio arrojara el error de que no se ha podido realizar una progresion lineal debido a que X posee valores NaN"
      ]
    },
    {
      "cell_type": "markdown",
      "metadata": {
        "id": "8yzSPBAkP3sG"
      },
      "source": [
        "e) ?"
      ]
    },
    {
      "cell_type": "markdown",
      "metadata": {
        "id": "ETBgocuRP3sG"
      },
      "source": [
        "> f) Estime el error de predicción del modelo usando validación cruzada con un número de \"bloques\" igual a\n",
        "K = 5 y K = 10. Recuerde que para que la estimación sea razonable debe ajustar los pesos del modelo\n",
        "de nuevo, cada vez que trabaja sobre un determinado \"bloque\". Mida el error real del modelo sobre el\n",
        "conjunto de pruebas, compare y concluya.\n",
        "\n",
        "```python\n",
        "yhat_test = linreg.predict(Xtest)\n",
        "mse_test = np.mean(np.power(yhat_test - ytest, 2))\n",
        "from sklearn.model_selection import KFold\n",
        "Xm = Xtrain.as_matrix()\n",
        "ym = ytrain.as_matrix()\n",
        "kf = KFold(n_splits=10)\n",
        "mse_cv = 0\n",
        "for train, val in kf.split(Xm):\n",
        "    linreg = lm.LinearRegression(fit_intercept = False)\n",
        "    linreg.fit(Xm[train], ym[train])\n",
        "    yhat_val = linreg.predict(Xm[val])\n",
        "    mse_fold = np.mean(np.power(yhat_val - ym[val], 2))\n",
        "    mse_cv += mse_fold\n",
        "mse_cv = mse_cv / 10\n",
        "```\n"
      ]
    },
    {
      "cell_type": "code",
      "execution_count": null,
      "metadata": {
        "id": "W2suAMqXP3sH"
      },
      "outputs": [],
      "source": [
        "yhat_test = linreg.predict(Xtest)\n",
        "mse_test = np.mean(np.power(yhat_test - ytest, 2))\n",
        "from sklearn.model_selection import KFold\n",
        "Xm = Xtrain.to_numpy()\n",
        "ym = ytrain.to_numpy()"
      ]
    },
    {
      "cell_type": "code",
      "execution_count": null,
      "metadata": {
        "id": "fi0mOV-pP3sH"
      },
      "outputs": [],
      "source": [
        "kf = KFold(n_splits=10)\n",
        "mse_cv = 0\n",
        "for train, val in kf.split(Xm):\n",
        "    linreg = lm.LinearRegression(fit_intercept = False)\n",
        "    linreg.fit(Xm[train], ym[train])\n",
        "    yhat_val = linreg.predict(Xm[val])\n",
        "    mse_fold = np.mean(np.power(yhat_val - ym[val], 2))\n",
        "    mse_cv += mse_fold\n",
        "mse_cv = mse_cv / 10"
      ]
    },
    {
      "cell_type": "code",
      "execution_count": null,
      "metadata": {
        "id": "nXJ5AFK4P3sH"
      },
      "outputs": [],
      "source": [
        "kf = KFold(n_splits=5)\n",
        "mse_cv1 = 0\n",
        "for train, val in kf.split(Xm):\n",
        "    linreg = lm.LinearRegression(fit_intercept = False)\n",
        "    linreg.fit(Xm[train], ym[train])\n",
        "    yhat_val = linreg.predict(Xm[val])\n",
        "    mse_fold1 = np.mean(np.power(yhat_val - ym[val], 2))\n",
        "    mse_cv1 += mse_fold1\n",
        "mse_cv1 = mse_cv1 / 5"
      ]
    },
    {
      "cell_type": "code",
      "execution_count": null,
      "metadata": {
        "id": "nyIYF9sbP3sH",
        "outputId": "2bd93188-e682-44b7-d8c6-646ba7c3d24a"
      },
      "outputs": [
        {
          "name": "stdout",
          "output_type": "stream",
          "text": [
            "0.0646849021361908\n",
            "0.06469167416907687\n"
          ]
        }
      ],
      "source": [
        "print(mse_cv)\n",
        "print(mse_cv1)"
      ]
    },
    {
      "cell_type": "markdown",
      "metadata": {
        "id": "W2BgqXr_P3sI"
      },
      "source": [
        "\n",
        "> g) Ajuste un modelo lineal utilizando \"Ridge Regression\", es decir, regularizando con la norma L2. Utilice valores del parámetro de regularización $\\lambda$ en el rango $[10^4; 10^{-1}]$. Construya un gráfico que muestre los\n",
        "coeficientes obtenidos como función del parámetro de regularización. Describa lo que observa. (Hint:\n",
        "Note que la línea 4 y el primer argumento en la línea 12 son críticos).\n",
        "```python\n",
        "from sklearn.linear_model import Ridge\n",
        "import matplotlib.pylab as plt\n",
        "X_c = X.copy()\n",
        "X_c = X_c.drop('intercept', axis=1)\n",
        "Xtrain = X_c[istrain]\n",
        "ytrain = y[istrain]\n",
        "names_regressors =[\"bedrooms\",\"bathrooms\",\"sqft_living\",\"sqft_lot\",\"floors\",\"waterfront\",\"view\",\"condition\",\"grade\",\"sqft_above\",\"sqft_basement\",\"yr_built\",\"yr_renovated\",\"lat-long\",\"sqft_living15\",\"sqft_lot15\"]\n",
        "alphas_ = np.logspace(4,-1,base=10)\n",
        "coefs = []\n",
        "model = Ridge(fit_intercept=True,solver=svd)\n",
        "for a in alphas_:\n",
        "    model.set_params(alpha=a)\n",
        "    model.fit(Xtrain, ytrain)\n",
        "    coefs.append(model.coef_)\n",
        "ax = plt.gca()\n",
        "for y_arr, label in zip(np.squeeze(coefs).T, names_regressors):\n",
        "    print alphas_.shape\n",
        "    print y_arr.shape\n",
        "    plt.plot(alphas_, y_arr, label=label)\n",
        "plt.legend()\n",
        "ax.set_xscale(log)\n",
        "ax.set_xlim(ax.get_xlim()[::-1]) # reverse axis\n",
        "plt.xlabel('alpha')\n",
        "plt.ylabel('weights')\n",
        "plt.title('Regularization Path RIDGE')\n",
        "plt.axis('tight')\n",
        "plt.legend(loc=2)\n",
        "plt.show()\n",
        "```\n"
      ]
    },
    {
      "cell_type": "code",
      "execution_count": null,
      "metadata": {
        "id": "LicFJajDP3sI",
        "outputId": "e4070cad-9f1f-433b-fc34-7105d1dc5fd7"
      },
      "outputs": [
        {
          "data": {
            "image/png": "[encoded data removed]",
            "text/plain": [
              "<Figure size 432x288 with 1 Axes>"
            ]
          },
          "metadata": {
            "needs_background": "light"
          },
          "output_type": "display_data"
        }
      ],
      "source": [
        "from sklearn.linear_model import Ridge\n",
        "import matplotlib.pylab as plt\n",
        "X_c = X.copy()\n",
        "X_c = X_c.drop('intercept', axis=1)\n",
        "Xtrain = X_c[istrain]\n",
        "ytrain = y[istrain]\n",
        "names_regressors =[\"bedrooms\",\"bathrooms\",\"sqft_living\",\"sqft_lot\",\"floors\",\"waterfront\",\"view\",\"condition\",\"grade\",\"sqft_above\",\"sqft_basement\",\"yr_built\",\"yr_renovated\",\"lat-long\",\"sqft_living15\",\"sqft_lot15\"]\n",
        "alphas_ = np.logspace(4,-1,base=10)\n",
        "coefs = []\n",
        "model = Ridge(fit_intercept=True,solver='svd')\n",
        "for a in alphas_:\n",
        "    model.set_params(alpha=a)\n",
        "    model.fit(Xtrain, ytrain)\n",
        "    coefs.append(model.coef_)\n",
        "ax = plt.gca()\n",
        "for y_arr, label in zip(np.squeeze(coefs).T, names_regressors):\n",
        "    #print(alphas_.shape)\n",
        "    #print(y_arr.shape)\n",
        "    plt.plot(alphas_, y_arr, label=label)\n",
        "ax.set_xscale('log')\n",
        "ax.set_xlim(ax.get_xlim()[::-1]) # reverse axis\n",
        "plt.xlabel('alpha')\n",
        "plt.ylabel('weights')\n",
        "plt.title('Regularization Path RIDGE')\n",
        "plt.axis('tight')\n",
        "plt.legend(bbox_to_anchor=(1.1, 0.9, 0.3, 0.2), loc=0)\n",
        "plt.show()"
      ]
    },
    {
      "cell_type": "markdown",
      "metadata": {
        "id": "a9filEUhP3sI"
      },
      "source": [
        "Los pesos se van regularizando a medida que avanza alpha, todos tienden a 0."
      ]
    },
    {
      "cell_type": "markdown",
      "metadata": {
        "id": "iCRk0AlhP3sI"
      },
      "source": [
        "> h) Ajuste un modelo lineal utilizando el método \"Lasso\", es decir, regularizando con la norma L1. Utilice\n",
        "valores del parámetro de regularización $\\lambda$ en el rango $[10^1; 10^{-2}]$. Para obtener el código, modifique\n",
        "las líneas 7 y 9 del ejemplo anterior. Construya un gráfico que muestre los coeficientes obtenidos\n",
        "como función del parámetro de regularización. Describa lo que observa. ¿Es más efectivo Lasso para\n",
        "seleccionar atributos?\n",
        "```python\n",
        "from sklearn.linear_model import Lasso\n",
        "alphas_ = np.logspace(0,-3,base=10)\n",
        "clf = Lasso(fit_intercept=True)\n",
        "```"
      ]
    },
    {
      "cell_type": "code",
      "execution_count": null,
      "metadata": {
        "id": "ABcQ3D9CP3sI",
        "outputId": "8a40b733-318a-4cdf-dc3e-8c27a34e8fa1"
      },
      "outputs": [
        {
          "data": {
            "image/png": "[encoded data removed]",
            "text/plain": [
              "<Figure size 432x288 with 1 Axes>"
            ]
          },
          "metadata": {
            "needs_background": "light"
          },
          "output_type": "display_data"
        }
      ],
      "source": [
        "from sklearn.linear_model import Lasso\n",
        "import matplotlib.pylab as plt\n",
        "X_c = X.copy()\n",
        "X_c = X_c.drop('intercept', axis=1)\n",
        "Xtrain = X_c[istrain]\n",
        "ytrain = y[istrain]\n",
        "names_regressors =[\"bedrooms\",\"bathrooms\",\"sqft_living\",\"sqft_lot\",\"floors\",\"waterfront\",\"view\",\"condition\",\"grade\",\"sqft_above\",\"sqft_basement\",\"yr_built\",\"yr_renovated\",\"lat-long\",\"sqft_living15\",\"sqft_lot15\"]\n",
        "alphas_ = np.logspace(0,-3,base=10)\n",
        "coefs = []\n",
        "clf = Lasso(fit_intercept=True)\n",
        "for a in alphas_:\n",
        "    clf.set_params(alpha=a)\n",
        "    clf.fit(Xtrain, ytrain)\n",
        "    coefs.append(clf.coef_)\n",
        "ax = plt.gca()\n",
        "for y_arr, label in zip(np.squeeze(coefs).T, names_regressors):\n",
        "    #print(alphas_.shape)\n",
        "    #print(y_arr.shape)\n",
        "    plt.plot(alphas_, y_arr, label=label)\n",
        "ax.set_xscale('log')\n",
        "ax.set_xlim(ax.get_xlim()[::-1]) # reverse axis\n",
        "plt.xlabel('alpha')\n",
        "plt.ylabel('weights')\n",
        "plt.title('Regularization Path LASSO')\n",
        "plt.axis('tight')\n",
        "plt.legend(bbox_to_anchor=(1.1, 0.9, 0.3, 0.2), loc=0)\n",
        "plt.show()"
      ]
    },
    {
      "cell_type": "markdown",
      "metadata": {
        "id": "qAmTgyJ1P3sJ"
      },
      "source": [
        "Con Lasso, a mayor alfa todos los pesos cayeron a 0"
      ]
    },
    {
      "cell_type": "markdown",
      "metadata": {
        "id": "NvhEsMkJP3sJ"
      },
      "source": [
        "> i) Utilizando \"Ridge Regression\", construya un gráfico que muestre el error de entrenamiento y el error\n",
        "de pruebas como función del parámetro de regularización. Discuta lo que observa.\n",
        "```python\n",
        "Xtest = X[np.logical_not(istrain)]\n",
        "ytest = y[np.logical_not(istrain)]\n",
        "alphas_ = np.logspace(2,-2,base=10)\n",
        "coefs = []\n",
        "model = Ridge(fit_intercept=True)\n",
        "mse_test = []\n",
        "mse_train = []\n",
        "for a in alphas_:\n",
        "    model.set_params(alpha=a)\n",
        "    model.fit(Xtrain, ytrain)\n",
        "    yhat_train = model.predict(Xtrain)\n",
        "    yhat_test = model.predict(Xtest)\n",
        "    mse_train.append(np.mean(np.power(yhat_train - ytrain, 2)))\n",
        "    mse_test.append(np.mean(np.power(yhat_test - ytest, 2)))\n",
        "ax = plt.gca()\n",
        "ax.plot(alphas_,mse_train,label='train error ridge')\n",
        "ax.plot(alphas_,mse_test,label='test error ridge')\n",
        "plt.legend(loc=2)\n",
        "ax.set_xscale(log)\n",
        "ax.set_xlim(ax.get_xlim()[::-1])\n",
        "plt.show()\n",
        "```"
      ]
    },
    {
      "cell_type": "code",
      "execution_count": null,
      "metadata": {
        "id": "a1OqcitgP3sJ"
      },
      "outputs": [],
      "source": [
        "from sklearn.linear_model import Ridge\n",
        "import matplotlib.pylab as plt\n",
        "X_c = X.copy()\n",
        "X_c = X_c.drop('intercept', axis=1)"
      ]
    },
    {
      "cell_type": "code",
      "execution_count": null,
      "metadata": {
        "id": "D-PqmW7lP3sJ",
        "outputId": "4c7a2056-9a86-4c0b-ebee-fe7c9183514c"
      },
      "outputs": [
        {
          "data": {
            "image/png": "[encoded data removed]",
            "text/plain": [
              "<Figure size 432x288 with 1 Axes>"
            ]
          },
          "metadata": {
            "needs_background": "light"
          },
          "output_type": "display_data"
        }
      ],
      "source": [
        "Xtest = X_c[np.logical_not(istrain)]\n",
        "ytest = y[np.logical_not(istrain)]\n",
        "alphas_ = np.logspace(2,-2,base=10)\n",
        "coefs = []\n",
        "model = Ridge(fit_intercept=True)\n",
        "mse_test = []\n",
        "mse_train = []\n",
        "for a in alphas_:\n",
        "    model.set_params(alpha=a)\n",
        "    model.fit(Xtrain, ytrain)\n",
        "    yhat_train = model.predict(Xtrain)\n",
        "    yhat_test = model.predict(Xtest)\n",
        "    mse_train.append(np.mean(np.power(yhat_train - ytrain, 2)))\n",
        "    mse_test.append(np.mean(np.power(yhat_test - ytest, 2)))\n",
        "ax = plt.gca()\n",
        "ax.plot(alphas_,mse_train,label='train error ridge')\n",
        "ax.plot(alphas_,mse_test,label='test error ridge')\n",
        "plt.legend(loc=2)\n",
        "ax.set_xscale('log')\n",
        "ax.set_xlim(ax.get_xlim()[::-1])\n",
        "plt.show()"
      ]
    },
    {
      "cell_type": "markdown",
      "metadata": {
        "id": "sx-TN0btP3sJ"
      },
      "source": [
        ">  j) Utilizando \"Lasso\", construya un gráfico que muestre el error de entrenamiento y el error de pruebas\n",
        "como función del parámetro de regularización. Discuta lo que observa.\n",
        "\n",
        "```python\n",
        "1 alphas_ = np.logspace(0.5,-2,base=10)\n",
        "```"
      ]
    },
    {
      "cell_type": "code",
      "execution_count": null,
      "metadata": {
        "id": "p-SeTJ2rP3sK"
      },
      "outputs": [],
      "source": [
        "from sklearn.linear_model import Lasso\n",
        "import matplotlib.pylab as plt\n",
        "X_c = X.copy()\n",
        "X_c = X_c.drop('intercept', axis=1)"
      ]
    },
    {
      "cell_type": "code",
      "execution_count": null,
      "metadata": {
        "id": "e4rwDVY7P3sK",
        "outputId": "7d6ae747-42a6-4729-8b3d-4b65f3cd5a2f"
      },
      "outputs": [
        {
          "data": {
            "image/png": "[encoded data removed]",
            "text/plain": [
              "<Figure size 432x288 with 1 Axes>"
            ]
          },
          "metadata": {
            "needs_background": "light"
          },
          "output_type": "display_data"
        }
      ],
      "source": [
        "Xtest = X_c[np.logical_not(istrain)]\n",
        "ytest = y[np.logical_not(istrain)]\n",
        "alphas_ = np.logspace(0.5,-2,base=10)\n",
        "coefs = []\n",
        "clf = Lasso(fit_intercept=True)\n",
        "mse_test = []\n",
        "mse_train = []\n",
        "for a in alphas_:\n",
        "    clf.set_params(alpha=a)\n",
        "    clf.fit(Xtrain, ytrain)\n",
        "    yhat_train = clf.predict(Xtrain)\n",
        "    yhat_test = clf.predict(Xtest)\n",
        "    mse_train.append(np.mean(np.power(yhat_train - ytrain, 2)))\n",
        "    mse_test.append(np.mean(np.power(yhat_test - ytest, 2)))\n",
        "ax = plt.gca()\n",
        "ax.plot(alphas_,mse_train,label='train error lasso')\n",
        "ax.plot(alphas_,mse_test,label='test error lasso')\n",
        "plt.legend(loc=2)\n",
        "ax.set_xscale('log')\n",
        "ax.set_xlim(ax.get_xlim()[::-1])\n",
        "plt.show()"
      ]
    },
    {
      "cell_type": "markdown",
      "metadata": {
        "id": "ZOrov0zQP3sK"
      },
      "source": [
        "<a id=\"segundo\"></a>\n",
        "## 2. Clasificación de datos no-linealmente separables\n",
        "\n",
        "Algunos modelos de clasificación buscan implicita o explicitamente separar los datos linealmente, es decir ajustar un hiperplano que separe en 2 subespacios el espacio de las variables, separando ambas clases del _target_. Sin embargo en la mayoría de los casos reales esto resulta imposible. Esto no significa que no podamos ajustar modelos con estos datos o buscar transformaciones que nos permitan utilizarlos. \n",
        "    \n",
        "![Alt Text](http://people.cs.uchicago.edu/~dinoj/manifold/swissroll.gif) \n",
        "\n",
        "[comment]: <> (Swiss Roll)\n",
        "\n",
        "En esta primera parte de la tarea crearemos manualmente un set de datos categóricos no linealmente separables. Este se conformará de puntos en $\\mathbb{R}^2$, pertenecientes a una de dos categorías etiquetadas 0 o 1, los cuales se encuentran \"anidados\". Probaremos distintas aproximaciones lineales y no lineales y compararemos sus desempeños."
      ]
    },
    {
      "cell_type": "markdown",
      "metadata": {
        "id": "8KOfPAx7P3sK"
      },
      "source": [
        "#### a) Crear el conjunto de datos\n",
        "La función `do_circles` retorna un conjunto de puntos etiquetados, donde la etiqueta 0 corresponde a puntos siguiendo una circunferencia (con un ruido asociado) y la etiqueta 1 a puntos dentro de esa circunferencia.\n",
        "\n",
        "Los parametros de esta función tienen nombres intencionalmente no descriptivos. \n",
        "\n",
        "* Analice la función y comente interpretación puede darle a cada uno de los parámetros con respecto a la influencia que tendrán en el set de datos obtenidos. Si lo estima conveniente, cambie el nombre de los parámetros a nombres más descriptivos.\n",
        "\n",
        "```python\n",
        "def do_circles(n_dots = 3000, ns = 0.15, scr = 0.3, cf = 1):\n",
        "    generator = check_random_state(42)\n",
        "    \n",
        "    linspace = np.linspace(0, 2*cf*np.pi, n_dots)\n",
        "    circle_x = np.cos(linspace)\n",
        "    circle_y = np.sin(linspace)\n",
        "\n",
        "    inner_circle_x, outer_circle_x, inner_circle_y, outer_circle_y = train_test_split(circle_x, circle_y, test_size = 0.5)\n",
        "    inner_circle_x , inner_circle_y = inner_circle_x*scr , inner_circle_y*scr \n",
        "\n",
        "    X = np.vstack((\n",
        "        np.append(outer_circle_x, inner_circle_x),\n",
        "        np.append(outer_circle_y, inner_circle_y)\n",
        "    )).T\n",
        "\n",
        "    y = np.hstack([\n",
        "        np.zeros(n_dots // 2, dtype=np.intp),\n",
        "        np.ones(n_dots // 2, dtype=np.intp)\n",
        "    ])\n",
        "\n",
        "    X += generator.normal(scale = ns, size = X.shape)\n",
        "    return train_test_split(X, y, test_size=0.3, random_state=42)\n",
        "```"
      ]
    },
    {
      "cell_type": "code",
      "execution_count": null,
      "metadata": {
        "id": "pQbV1IfaP3sL"
      },
      "outputs": [],
      "source": [
        "import numpy as np"
      ]
    },
    {
      "cell_type": "code",
      "execution_count": null,
      "metadata": {
        "id": "zNuYBREJP3sL"
      },
      "outputs": [],
      "source": [
        "from sklearn.model_selection import train_test_split\n",
        "from sklearn.utils import check_random_state\n",
        "\n",
        "def do_circles(n_dots = 3000, ns = 0.15, scr = 0.3, cf = 1):\n",
        "    generator = check_random_state(42)\n",
        "\n",
        "    linspace = np.linspace(0, 2*cf*np.pi, n_dots)\n",
        "    circle_x = np.cos(linspace)\n",
        "    circle_y = np.sin(linspace)\n",
        "\n",
        "    inner_circle_x, outer_circle_x, inner_circle_y, outer_circle_y = train_test_split(circle_x, circle_y, test_size = 0.5)\n",
        "    inner_circle_x , inner_circle_y = inner_circle_x*scr , inner_circle_y*scr\n",
        "\n",
        "    X = np.vstack((\n",
        "        np.append(outer_circle_x, inner_circle_x),\n",
        "        np.append(outer_circle_y, inner_circle_y)\n",
        "    )).T\n",
        "\n",
        "    y = np.hstack([\n",
        "        np.zeros(n_dots // 2, dtype=np.intp),\n",
        "        np.ones(n_dots // 2, dtype=np.intp)\n",
        "    ])\n",
        "\n",
        "    X += generator.normal(scale = ns, size = X.shape)\n",
        "    return train_test_split(X, y, test_size=0.3, random_state=42)"
      ]
    },
    {
      "cell_type": "markdown",
      "metadata": {
        "id": "C5ArAfQdP3sL"
      },
      "source": [
        "<p style=\"font-family: Comic Sans MS\">Analizando el código, intenté ejecutarlo, primero me marcó errores nombres indefinidos, por lo que revisé y me di cuenta que hacía falta agregar algunas librerías, por lo que puse el siguiente código de cabecera:</p>\n",
        "\n",
        "```python\n",
        "    from sklearn.model_selection import train_test_split\n",
        "    from sklearn.utils import check_random_state\n",
        "```\n",
        "\n",
        "<p style=\"font-family: Comic Sans MS\">Con eso, pude ejecutar el código, al parecer genera una especie de dona, ya que no es un circulo delgado.</p>\n",
        "<p style=\"font-family: Comic Sans MS\">Después revisando los parámetros de la función tenemos:</p>\n",
        "\n",
        "\n",
        "```python\n",
        "    def do_circles(n_dots = 3000, ns = 0.15, scr = 0.3, cf = 1):\n",
        "```\n",
        "Nombres:\n",
        "<ul>\n",
        "    <li>do_circles: Nombre de la función</li>\n",
        "    <li>n_dots: Por el nombre se infiere que es la cantidad de puntos</li>\n",
        "    <li>ns: Corresponde al ancho de la linea del circulo, o también a la dispersión con respecto al circulo</li>\n",
        "    <li>scr: Corresponde a la separación de ambos conjuntos</li>\n",
        "    <li>cf: Corresponde a la cantidad de grados que se muestra del circulo</li>\n",
        "</ul>\n",
        "\n",
        "<p style=\"font-family: Comic Sans MS\">Después tenemos el código de la función, lo dividiremos para explicar que hace cada linea o cada conjunto de lineas</p>\n",
        "\n",
        "```python\n",
        "    generator = check_random_state(42)\n",
        "```\n",
        "<p style=\"font-family: Comic Sans MS\">Se crea una variable de nombre generator con la asignación de valor de check_random_state lo que crea un generador de estados random, al poseer número, este actuará de semilla(seed) y dejará valores fijos para cada semilla, si se cambia el valor de la semilla, esto también cambiará el valor de generator, el nro 42 puede ser una referencia a la Guía del autoestopista galáctico de Douglas Adams</p>\n",
        "\n",
        "```python\n",
        "    linspace = np.linspace(0, 2*cf*np.pi, n_dots)\n",
        "```\n",
        "<p style=\"font-family: Comic Sans MS\">np.linspace retorna una cantidad de valores(n_dots) entre un intervalo dado, en este caso desde cero a 2*cf*&#928;</p>\n",
        "\n",
        "\n",
        "```python\n",
        "    circle_x = np.cos(linspace)\n",
        "    circle_y = np.sin(linspace)\n",
        "```\n",
        "<p style=\"font-family: Comic Sans MS\">\n",
        "    ambas lineas de código lo que intentan hacer darles una posición en los ejes x e y a los valores de linspace\n",
        "</p>\n",
        "\n",
        "```python\n",
        "    inner_circle_x, outer_circle_x, inner_circle_y, outer_circle_y = train_test_split(circle_x, circle_y, test_size = 0.5)\n",
        "    inner_circle_x , inner_circle_y = inner_circle_x*scr , inner_circle_y*scr \n",
        "```\n",
        "<p style=\"font-family: Comic Sans MS\">\n",
        "    por lo que entiendo, se le pasa a train test split dos tablas y un tamaño de test, donde se indica que la mitad de los nros serán para test y los otros de training, posteriormente los resultados de train_test_split se almacenarán en las siguientes variables\n",
        "<ul>\n",
        "    <li>\n",
        "        inner_circle_x: Coordenada X del interior del circulo, dato de predicción\n",
        "    </li>\n",
        "    <li>\n",
        "        inner_circle_y: Coordenada Y del interior del circulo, dato de predicción\n",
        "    </li>\n",
        "    <li>\n",
        "        outer_circle_x: Coordenada X del exterior del circulo, dato para test\n",
        "    </li>\n",
        "    <li>\n",
        "        outer_circle_y: Coordenada X del exterior del circulo, dato para test\n",
        "    </li>\n",
        "</ul>\n",
        "</p>\n",
        "\n",
        "```python\n",
        "    X = np.vstack((\n",
        "        np.append(outer_circle_x, inner_circle_x),\n",
        "        np.append(outer_circle_y, inner_circle_y)\n",
        "    )).T\n",
        "```\n",
        "<p style=\"font-family: Comic Sans MS\">\n",
        "    Se crea una variable de nombre X de tipo Numpy Vertical Stack la cual se le anidan las coordenadas de las variables de recién, las cuales son outer_circle e inner_circle\n",
        "</p>\n",
        "```python\n",
        "    y = np.hstack([\n",
        "        np.zeros(n_dots // 2, dtype=np.intp),\n",
        "        np.ones(n_dots // 2, dtype=np.intp)\n",
        "    ])\n",
        "```\n",
        "```python\n",
        "\n",
        "    X += generator.normal(scale = ns, size = X.shape)\n",
        "```\n",
        "\n",
        "\n",
        "```python\n",
        "return train_test_split(X, y, test_size=0.3, random_state=42)\n",
        "```"
      ]
    },
    {
      "cell_type": "code",
      "execution_count": null,
      "metadata": {
        "id": "YnClQJj9P3sL"
      },
      "outputs": [],
      "source": [
        "# bloque para testear variables"
      ]
    },
    {
      "cell_type": "markdown",
      "metadata": {
        "id": "GFEY1jbvP3sL"
      },
      "source": [
        "#### b) Graficar los datos\n",
        "Cree una función que grafique los datos, coloreando distintamente los puntos de cada clase. \n",
        "Utilice esta función para verificar gráficamente lo que propuso en la pregunta anterior.\n",
        "\n",
        "```python\n",
        "def plot_circles( . . . . ):\n",
        "    # . . . \n",
        "    fig1 = fig.add_subplot(121)\n",
        "    fig1.scatter(X_train[y_train==0][:,0], X_train[y_train==0][:,1])\n",
        "    # . . . \n",
        "    fig1.set_title(\"Train Set\")\n",
        "    # . . .\n",
        "```"
      ]
    },
    {
      "cell_type": "code",
      "execution_count": null,
      "metadata": {
        "id": "0SqZHDTZP3sL"
      },
      "outputs": [],
      "source": [
        "import matplotlib.pyplot as plt\n",
        "\n"
      ]
    },
    {
      "cell_type": "code",
      "execution_count": null,
      "metadata": {
        "id": "VqoPkAHMP3sL"
      },
      "outputs": [],
      "source": [
        "def plot_circles(X_train, X_test, y_train, y_test):\n",
        "    fig=plt.figure()\n",
        "    fig1 = fig.add_subplot(121)\n",
        "    fig1.scatter(X_train[y_train==0][:,0], X_train[y_train==0][:,1],c=\"red\")\n",
        "    fig1.scatter(X_train[y_train==1][:,0], X_train[y_train==1][:,1],c=\"green\")\n",
        "    fig1.set_title(\"Train Set\")"
      ]
    },
    {
      "cell_type": "code",
      "execution_count": null,
      "metadata": {
        "id": "Ue7no2kxP3sM",
        "outputId": "7e3e533e-b5ce-4eaf-c98b-31e709484341"
      },
      "outputs": [
        {
          "data": {
            "image/png": "[encoded data removed]",
            "text/plain": [
              "<Figure size 432x288 with 1 Axes>"
            ]
          },
          "metadata": {
            "needs_background": "light"
          },
          "output_type": "display_data"
        }
      ],
      "source": [
        "X_train, X_test, y_train, y_test = do_circles(3000, 0,0,1)\n",
        "plot_circles(X_train, X_test, y_train, y_test)"
      ]
    },
    {
      "cell_type": "markdown",
      "metadata": {
        "id": "dBEx1ZgVP3sM"
      },
      "source": [
        "Si NS = 0, entonces el gráfico genera un circulo de linea de contorno delgada"
      ]
    },
    {
      "cell_type": "code",
      "execution_count": null,
      "metadata": {
        "id": "8BI_o0UAP3sM",
        "outputId": "3a7f1c6b-86ce-4e81-bd8c-647efca2877b"
      },
      "outputs": [
        {
          "data": {
            "image/png": "[encoded data removed]",
            "text/plain": [
              "<Figure size 432x288 with 1 Axes>"
            ]
          },
          "metadata": {
            "needs_background": "light"
          },
          "output_type": "display_data"
        }
      ],
      "source": [
        "X_train, X_test, y_train, y_test = do_circles(3000, 0.15,0,1)\n",
        "plot_circles(X_train, X_test, y_train, y_test)"
      ]
    },
    {
      "cell_type": "markdown",
      "metadata": {
        "id": "08egeWx-P3sM"
      },
      "source": [
        "En cambio si NS > 0; entonces la linea se hace mas ancha y los datos se dispersan más"
      ]
    },
    {
      "cell_type": "code",
      "execution_count": null,
      "metadata": {
        "id": "wDdBnt63P3sM",
        "outputId": "d883808c-05df-49ce-cd16-d6eb26a9d4ed"
      },
      "outputs": [
        {
          "data": {
            "image/png": "[encoded data removed]",
            "text/plain": [
              "<Figure size 432x288 with 1 Axes>"
            ]
          },
          "metadata": {
            "needs_background": "light"
          },
          "output_type": "display_data"
        }
      ],
      "source": [
        "X_train, X_test, y_train, y_test = do_circles(3000, 0.3,1,1)\n",
        "plot_circles(X_train, X_test, y_train, y_test)"
      ]
    },
    {
      "cell_type": "markdown",
      "metadata": {
        "id": "gqZlHd1OP3sM"
      },
      "source": [
        "se Usa NS para separar los conjuntos graficados"
      ]
    },
    {
      "cell_type": "code",
      "execution_count": null,
      "metadata": {
        "id": "IoICJt5yP3sN",
        "outputId": "a3ac2194-d16d-4a66-91a2-6302e011d123"
      },
      "outputs": [
        {
          "data": {
            "image/png": "[encoded data removed]",
            "text/plain": [
              "<Figure size 432x288 with 1 Axes>"
            ]
          },
          "metadata": {
            "needs_background": "light"
          },
          "output_type": "display_data"
        }
      ],
      "source": [
        "X_train, X_test, y_train, y_test = do_circles(3000, 0.15,2,1)\n",
        "plot_circles(X_train, X_test, y_train, y_test)"
      ]
    },
    {
      "cell_type": "markdown",
      "metadata": {
        "id": "-DcMZwaaP3sN"
      },
      "source": [
        "al alterar scr, separa el conjunto 2 del conjunto 1"
      ]
    },
    {
      "cell_type": "markdown",
      "metadata": {
        "id": "kwn_s0r5P3sN"
      },
      "source": [
        "#### c) Regresión Logística\n",
        "\n",
        "Realice una regresión logistica para a lo menos 5000 puntos generados con los siguientes parámetros:\n",
        "* `do_circles(n_dots, 0.2, 0.3, 1)`\n",
        "* `do_circles(n_dots, 0, 0.3, 1)`\n",
        "\n",
        "Grafique los datos que está ajustando y calcule el _score_ del regresor logístico en cada caso.\n",
        "¿Qué valor entrega el _score_ del regresor logístico? Le parece un buen desempeño para la tarea a realizar?\n",
        "\n",
        "```python\n",
        "from sklearn.linear_model import LogisticRegression\n",
        "\n",
        "log_reg = LogisticRegression()\n",
        "log_reg.fit(X_train, y_train)\n",
        "# . . .\n",
        "```"
      ]
    },
    {
      "cell_type": "code",
      "execution_count": null,
      "metadata": {
        "id": "K8Te0HIxP3sN"
      },
      "outputs": [],
      "source": [
        "n_dots=5000\n",
        "x1_train, x1_test, y1_train, y1_test = do_circles(n_dots, 0.2, 0.3, 1)\n",
        "x2_train, x2_test, y2_train, y2_test = do_circles(n_dots, 0, 0.3, 1)\n",
        "#fit\n",
        "#predict\n",
        "#"
      ]
    },
    {
      "cell_type": "code",
      "execution_count": null,
      "metadata": {
        "id": "tvfsuWeJP3sN",
        "outputId": "653373a6-21d4-49ea-c996-a115af1dd67e"
      },
      "outputs": [
        {
          "data": {
            "text/plain": [
              "LogisticRegression()"
            ]
          },
          "execution_count": 378,
          "metadata": {},
          "output_type": "execute_result"
        }
      ],
      "source": [
        "from sklearn.linear_model import LogisticRegression\n",
        "\n",
        "log_reg1 = LogisticRegression()\n",
        "log_reg1.fit(x1_train, y1_train)\n",
        "log_reg2 = LogisticRegression()\n",
        "log_reg2.fit(x2_train, y2_train)\n"
      ]
    },
    {
      "cell_type": "code",
      "execution_count": null,
      "metadata": {
        "id": "Pku81XSEP3sN",
        "outputId": "702def85-f76b-417d-dfce-a356f0eca6ee"
      },
      "outputs": [
        {
          "data": {
            "text/plain": [
              "0.5705714285714286"
            ]
          },
          "execution_count": 379,
          "metadata": {},
          "output_type": "execute_result"
        }
      ],
      "source": [
        "log_reg1.score(x1_train, y1_train)\n"
      ]
    },
    {
      "cell_type": "code",
      "execution_count": null,
      "metadata": {
        "id": "MzkF67JoP3sN",
        "outputId": "33e03ccf-d9b8-462a-97d8-2d06f115ce49"
      },
      "outputs": [
        {
          "data": {
            "text/plain": [
              "0.5985714285714285"
            ]
          },
          "execution_count": 382,
          "metadata": {},
          "output_type": "execute_result"
        }
      ],
      "source": [
        "log_reg2.score(x2_train, y2_train)"
      ]
    },
    {
      "cell_type": "markdown",
      "metadata": {
        "id": "Pp7Bt3tEP3sO"
      },
      "source": [
        "#### d) Gráficos\n",
        "Para entender mejor lo que está ocurriendo con el clasificador en cada uno de los casos, grafícaremos los datos clasificados y la frontera de desición ajustada por el modelo. Para esto complete la función siguiente y luego utilicela para ambos modelos y conjuntos de datos ajustados en la pregunta anterior. \n",
        "\n",
        "¿Qué puede concluir luego de estas visualizaciones? ¿Es posible mejorar el desempeño de algun clasificador lineal sin hacer una transformación de los datos? ¿Qué ocurre con el clasificador si disminuimos el ruido, mejora realmente su desempeño? \n",
        "\n",
        "```python\n",
        "def plot_classifier(classifier, X_train, Y_train, X_test, Y_test, train_or_test='test'):\n",
        "    plt.figure(figsize=(12, 8))\n",
        "    axis = plt.axes()\n",
        "    if tr_tst == 'train':\n",
        "        # Scatter train points (axis.scatter(. . .)) \n",
        "    elif tr_tst == 'test':\n",
        "        # Scatter test points\n",
        "    XX, YY = np.mgrid[-2:2:200j, -2:2:200j] # grid for cassifier\n",
        "    Z = clf.predict(np.c_[XX.ravel(), YY.ravel()]) # what the classifier predicts over the space\n",
        "    Z = Z.reshape(XX.shape) # for consistency\n",
        "    Zplot = Z > 0.5 # to separate both classes\n",
        "    axis.pcolormesh(XX, YY, Zplot, cmap='YlGn')\n",
        "    axis.contour(XX, YY, Zplot, alpha=1, colors=[\"r\"], linestyles=[\"-\"], levels=[0.5])\n",
        "    plt.show()\n",
        "```\n",
        "\n",
        "Para las siguientes preguntas nos enfocaremos **solo en la versión con ruido de los datos** pues en la práctica no existen datos sin ruido. Probaremos algunos métodos no lineales para ver que tanto logramos mejorar el desempeño en nuestros datos. "
      ]
    },
    {
      "cell_type": "code",
      "execution_count": null,
      "metadata": {
        "id": "zvML-VQMP3sO"
      },
      "outputs": [],
      "source": [
        "def plot_classifier(clf, X_train, Y_train, X_test, Y_test, train_or_test='test'):\n",
        "    plt.figure(figsize=(12, 8))\n",
        "    axis = plt.axes()\n",
        "    if train_or_test == 'train':\n",
        "        for i in range(len(X_train)):\n",
        "            axis.scatter(X_train[i][0],X_train[i][1])\n",
        "    elif train_or_test == 'test':\n",
        "        for i in range(len(X_test)):\n",
        "            axis.scatter(X_test[i][0],X_test[i][1])\n",
        "        # Scatter test points\n",
        "    XX, YY = np.mgrid[-2:2:200j, -2:2:200j] # grid for cassifier\n",
        "    Z = clf.predict(np.c_[XX.ravel(), YY.ravel()]) # what the classifier predicts over the space\n",
        "    Z = Z.reshape(XX.shape) # for consistency\n",
        "    Zplot = Z > 0.5 # to separate both classes\n",
        "    axis.pcolormesh(XX, YY, Zplot, alpha=0.3, cmap='YlGn')\n",
        "    axis.contour(XX, YY, Zplot, alpha=1, colors=[\"r\"], linestyles=[\"-\"], levels=[0.5])\n",
        "    plt.show()"
      ]
    },
    {
      "cell_type": "code",
      "execution_count": null,
      "metadata": {
        "id": "iaxrkNPyP3sO",
        "outputId": "6ef21359-4330-4f9b-d25e-e95f3fb7e282"
      },
      "outputs": [
        {
          "data": {
            "image/png": "[encoded data removed]",
            "text/plain": [
              "<Figure size 864x576 with 1 Axes>"
            ]
          },
          "metadata": {
            "needs_background": "light"
          },
          "output_type": "display_data"
        },
        {
          "data": {
            "image/png": "[encoded data removed]",
            "text/plain": [
              "<Figure size 864x576 with 1 Axes>"
            ]
          },
          "metadata": {
            "needs_background": "light"
          },
          "output_type": "display_data"
        }
      ],
      "source": [
        "\n",
        "plot_classifier(log_reg1,x1_train,y1_train,x1_test,y1_test)\n",
        "plot_classifier(log_reg2,x2_train,y2_train,x2_test,y2_test)"
      ]
    },
    {
      "cell_type": "code",
      "execution_count": null,
      "metadata": {
        "id": "iNBvtb3zP3sO",
        "outputId": "c337c1f4-6fc6-4d59-983f-9e84234a0f0c"
      },
      "outputs": [
        {
          "data": {
            "image/png": "[encoded data removed]",
            "text/plain": [
              "<Figure size 864x576 with 1 Axes>"
            ]
          },
          "metadata": {
            "needs_background": "light"
          },
          "output_type": "display_data"
        }
      ],
      "source": [
        "isTraining = 'train'\n",
        "plot_classifier(log_reg1,x1_train,y1_train,x1_test,y1_test,isTraining)\n",
        "plot_classifier(log_reg2,x2_train,y2_train,x2_test,y2_test,isTraining)"
      ]
    },
    {
      "cell_type": "markdown",
      "metadata": {
        "id": "H0C_GXmjP3sO"
      },
      "source": [
        "\n",
        "#### e) SVM\n",
        "\n",
        "Entrene un clasificador SVM con los datos con ruido. ¿Qué forma tiene la frontera de desición esta vez? \n",
        "\n",
        "¿Mejoran los resultados al alejarse de los métodos puramente lineales? Comente sobre el desempeño del modelo y su sensibilidad a los parámetros `C` y `gamma`, explorando como cambia la frontera de desición al variar estos parámetros. \n",
        "\n",
        "```python\n",
        "from sklearn.svm import SVC\n",
        "SV = SVC(C=1, gamma=5)\n",
        "```"
      ]
    },
    {
      "cell_type": "markdown",
      "metadata": {
        "id": "lx3pBr9CP3sO"
      },
      "source": [
        "#### f) KNN\n",
        "Pruebe ahora con otro método no linal, _K nearest neighbors_ o KNN. Discuta sus resultados y la frontera de desición que encuentra el modelo. \n",
        "\n",
        "Realice un _Cross Validation_ sobre el parámetro `n_neighbors` o `p` (o ambos usando un mallado) y comente si mejoran significativamente los resultados. Puede apoyarse de los códigos de la tarea 1 para realizar el _Cross Validation_.\n",
        "¿Qué representan estos parámetros para el metodo?\n",
        "\n",
        "```python\n",
        "from sklearn.neighbors import KNeighborsClassifier\n",
        "KNN = KNeighborsClassifier(n_neighbors=5, p=2)\n",
        "```"
      ]
    },
    {
      "cell_type": "markdown",
      "metadata": {
        "id": "htTojSpLP3sP"
      },
      "source": [
        "<a id=\"tercero\"></a>\n",
        "## 3. Calidad del vino"
      ]
    },
    {
      "cell_type": "markdown",
      "metadata": {
        "id": "U9-zX6VXP3sP"
      },
      "source": [
        "Dentro de las variedades del vino, existen distintas calidades de este, donde algunos gustan mas a algunas\n",
        "personas que otras, esto depende de la gran cantidad de químicos y procesos que se aplican a la producción\n",
        "de vino. Para el área de negocios el estimar cuál es la calidad del vino en base a la apreciación de la gente es\n",
        "una tarea bastante difícil.\n",
        "Para esta actividad se trabajará con dos datasets asociados a variantes tinto y blanco del vino Portugués\n",
        "”Vinho Verde” (http://archive.ics.uci.edu/ml/datasets/Wine+Quality). Debido a temas privados solo se cuenta atributos fisioquímicos asociados a un vino en particular, los cuales corresponden a 11 atributos numéricos descritos en el siguiente link.\n",
        "Este problema puede ser abordado como clasificación de 11 clases o de regresión, ya que el atributo a estimar,\n",
        "la calidad quality, es un valor entero entre 0 y 10.\n",
        "\n",
        "<img src=\"https://images.unsplash.com/photo-1506377247377-2a5b3b417ebb?ixlib=rb-1.2.1&q=80&fm=jpg&crop=entropy&cs=tinysrgb&w=1080&fit=max&ixid=eyJhcHBfaWQiOjExNzczfQ\" title=\"Title text\" width=\"40%\"/>\n",
        "\n",
        "\n"
      ]
    },
    {
      "cell_type": "markdown",
      "metadata": {
        "id": "kxNVPwAfP3sP"
      },
      "source": [
        "a) Carge los dos dataset en un único dataframe de pandas, además de agregar una columna indicando si\n",
        "es vino tinto o blanco. Describa el dataset a trabajar.\n",
        "```python\n",
        "import pandas as pd\n",
        "df_red = pd.read_csv(\"winequality-red.csv\",sep=\";\")\n",
        "df_white = pd.read_csv(\"winequality-white.csv\",sep=\";\")\n",
        "df = pd.concat([df_red,df_white], axis=0)\n",
        "#genere atributo ’tipo’\n",
        "```"
      ]
    },
    {
      "cell_type": "code",
      "execution_count": null,
      "metadata": {
        "id": "7fH6foxUP3sP"
      },
      "outputs": [],
      "source": [
        "import pandas as pd\n",
        "df_red = pd.read_csv(\"winequality-red.csv\",sep=\";\")\n",
        "df_white = pd.read_csv(\"winequality-white.csv\",sep=\";\")\n",
        "df_red = df_red.assign(wineType=0)\n",
        "df_white = df_white.assign(wineType=1)\n",
        "df_wine = pd.concat([df_red,df_white], axis=0, ignore_index=True)\n"
      ]
    },
    {
      "cell_type": "code",
      "execution_count": null,
      "metadata": {
        "id": "pUVknxCpP3sP",
        "outputId": "c61eca18-a290-48da-9242-6a76b585c51a"
      },
      "outputs": [
        {
          "data": {
            "text/html": [
              "<div>\n",
              "<style scoped>\n",
              "    .dataframe tbody tr th:only-of-type {\n",
              "        vertical-align: middle;\n",
              "    }\n",
              "\n",
              "    .dataframe tbody tr th {\n",
              "        vertical-align: top;\n",
              "    }\n",
              "\n",
              "    .dataframe thead th {\n",
              "        text-align: right;\n",
              "    }\n",
              "</style>\n",
              "<table border=\"1\" class=\"dataframe\">\n",
              "  <thead>\n",
              "    <tr style=\"text-align: right;\">\n",
              "      <th></th>\n",
              "      <th>fixed acidity</th>\n",
              "      <th>volatile acidity</th>\n",
              "      <th>citric acid</th>\n",
              "      <th>residual sugar</th>\n",
              "      <th>chlorides</th>\n",
              "      <th>free sulfur dioxide</th>\n",
              "      <th>total sulfur dioxide</th>\n",
              "      <th>density</th>\n",
              "      <th>pH</th>\n",
              "      <th>sulphates</th>\n",
              "      <th>alcohol</th>\n",
              "      <th>quality</th>\n",
              "      <th>wineType</th>\n",
              "    </tr>\n",
              "  </thead>\n",
              "  <tbody>\n",
              "    <tr>\n",
              "      <th>0</th>\n",
              "      <td>7.4</td>\n",
              "      <td>0.70</td>\n",
              "      <td>0.00</td>\n",
              "      <td>1.9</td>\n",
              "      <td>0.076</td>\n",
              "      <td>11.0</td>\n",
              "      <td>34.0</td>\n",
              "      <td>0.99780</td>\n",
              "      <td>3.51</td>\n",
              "      <td>0.56</td>\n",
              "      <td>9.4</td>\n",
              "      <td>5</td>\n",
              "      <td>0</td>\n",
              "    </tr>\n",
              "    <tr>\n",
              "      <th>1</th>\n",
              "      <td>7.8</td>\n",
              "      <td>0.88</td>\n",
              "      <td>0.00</td>\n",
              "      <td>2.6</td>\n",
              "      <td>0.098</td>\n",
              "      <td>25.0</td>\n",
              "      <td>67.0</td>\n",
              "      <td>0.99680</td>\n",
              "      <td>3.20</td>\n",
              "      <td>0.68</td>\n",
              "      <td>9.8</td>\n",
              "      <td>5</td>\n",
              "      <td>0</td>\n",
              "    </tr>\n",
              "    <tr>\n",
              "      <th>2</th>\n",
              "      <td>7.8</td>\n",
              "      <td>0.76</td>\n",
              "      <td>0.04</td>\n",
              "      <td>2.3</td>\n",
              "      <td>0.092</td>\n",
              "      <td>15.0</td>\n",
              "      <td>54.0</td>\n",
              "      <td>0.99700</td>\n",
              "      <td>3.26</td>\n",
              "      <td>0.65</td>\n",
              "      <td>9.8</td>\n",
              "      <td>5</td>\n",
              "      <td>0</td>\n",
              "    </tr>\n",
              "    <tr>\n",
              "      <th>3</th>\n",
              "      <td>11.2</td>\n",
              "      <td>0.28</td>\n",
              "      <td>0.56</td>\n",
              "      <td>1.9</td>\n",
              "      <td>0.075</td>\n",
              "      <td>17.0</td>\n",
              "      <td>60.0</td>\n",
              "      <td>0.99800</td>\n",
              "      <td>3.16</td>\n",
              "      <td>0.58</td>\n",
              "      <td>9.8</td>\n",
              "      <td>6</td>\n",
              "      <td>0</td>\n",
              "    </tr>\n",
              "    <tr>\n",
              "      <th>4</th>\n",
              "      <td>7.4</td>\n",
              "      <td>0.70</td>\n",
              "      <td>0.00</td>\n",
              "      <td>1.9</td>\n",
              "      <td>0.076</td>\n",
              "      <td>11.0</td>\n",
              "      <td>34.0</td>\n",
              "      <td>0.99780</td>\n",
              "      <td>3.51</td>\n",
              "      <td>0.56</td>\n",
              "      <td>9.4</td>\n",
              "      <td>5</td>\n",
              "      <td>0</td>\n",
              "    </tr>\n",
              "    <tr>\n",
              "      <th>...</th>\n",
              "      <td>...</td>\n",
              "      <td>...</td>\n",
              "      <td>...</td>\n",
              "      <td>...</td>\n",
              "      <td>...</td>\n",
              "      <td>...</td>\n",
              "      <td>...</td>\n",
              "      <td>...</td>\n",
              "      <td>...</td>\n",
              "      <td>...</td>\n",
              "      <td>...</td>\n",
              "      <td>...</td>\n",
              "      <td>...</td>\n",
              "    </tr>\n",
              "    <tr>\n",
              "      <th>6492</th>\n",
              "      <td>6.2</td>\n",
              "      <td>0.21</td>\n",
              "      <td>0.29</td>\n",
              "      <td>1.6</td>\n",
              "      <td>0.039</td>\n",
              "      <td>24.0</td>\n",
              "      <td>92.0</td>\n",
              "      <td>0.99114</td>\n",
              "      <td>3.27</td>\n",
              "      <td>0.50</td>\n",
              "      <td>11.2</td>\n",
              "      <td>6</td>\n",
              "      <td>1</td>\n",
              "    </tr>\n",
              "    <tr>\n",
              "      <th>6493</th>\n",
              "      <td>6.6</td>\n",
              "      <td>0.32</td>\n",
              "      <td>0.36</td>\n",
              "      <td>8.0</td>\n",
              "      <td>0.047</td>\n",
              "      <td>57.0</td>\n",
              "      <td>168.0</td>\n",
              "      <td>0.99490</td>\n",
              "      <td>3.15</td>\n",
              "      <td>0.46</td>\n",
              "      <td>9.6</td>\n",
              "      <td>5</td>\n",
              "      <td>1</td>\n",
              "    </tr>\n",
              "    <tr>\n",
              "      <th>6494</th>\n",
              "      <td>6.5</td>\n",
              "      <td>0.24</td>\n",
              "      <td>0.19</td>\n",
              "      <td>1.2</td>\n",
              "      <td>0.041</td>\n",
              "      <td>30.0</td>\n",
              "      <td>111.0</td>\n",
              "      <td>0.99254</td>\n",
              "      <td>2.99</td>\n",
              "      <td>0.46</td>\n",
              "      <td>9.4</td>\n",
              "      <td>6</td>\n",
              "      <td>1</td>\n",
              "    </tr>\n",
              "    <tr>\n",
              "      <th>6495</th>\n",
              "      <td>5.5</td>\n",
              "      <td>0.29</td>\n",
              "      <td>0.30</td>\n",
              "      <td>1.1</td>\n",
              "      <td>0.022</td>\n",
              "      <td>20.0</td>\n",
              "      <td>110.0</td>\n",
              "      <td>0.98869</td>\n",
              "      <td>3.34</td>\n",
              "      <td>0.38</td>\n",
              "      <td>12.8</td>\n",
              "      <td>7</td>\n",
              "      <td>1</td>\n",
              "    </tr>\n",
              "    <tr>\n",
              "      <th>6496</th>\n",
              "      <td>6.0</td>\n",
              "      <td>0.21</td>\n",
              "      <td>0.38</td>\n",
              "      <td>0.8</td>\n",
              "      <td>0.020</td>\n",
              "      <td>22.0</td>\n",
              "      <td>98.0</td>\n",
              "      <td>0.98941</td>\n",
              "      <td>3.26</td>\n",
              "      <td>0.32</td>\n",
              "      <td>11.8</td>\n",
              "      <td>6</td>\n",
              "      <td>1</td>\n",
              "    </tr>\n",
              "  </tbody>\n",
              "</table>\n",
              "<p>6497 rows × 13 columns</p>\n",
              "</div>"
            ],
            "text/plain": [
              "      fixed acidity  volatile acidity  citric acid  residual sugar  chlorides  \\\n",
              "0               7.4              0.70         0.00             1.9      0.076   \n",
              "1               7.8              0.88         0.00             2.6      0.098   \n",
              "2               7.8              0.76         0.04             2.3      0.092   \n",
              "3              11.2              0.28         0.56             1.9      0.075   \n",
              "4               7.4              0.70         0.00             1.9      0.076   \n",
              "...             ...               ...          ...             ...        ...   \n",
              "6492            6.2              0.21         0.29             1.6      0.039   \n",
              "6493            6.6              0.32         0.36             8.0      0.047   \n",
              "6494            6.5              0.24         0.19             1.2      0.041   \n",
              "6495            5.5              0.29         0.30             1.1      0.022   \n",
              "6496            6.0              0.21         0.38             0.8      0.020   \n",
              "\n",
              "      free sulfur dioxide  total sulfur dioxide  density    pH  sulphates  \\\n",
              "0                    11.0                  34.0  0.99780  3.51       0.56   \n",
              "1                    25.0                  67.0  0.99680  3.20       0.68   \n",
              "2                    15.0                  54.0  0.99700  3.26       0.65   \n",
              "3                    17.0                  60.0  0.99800  3.16       0.58   \n",
              "4                    11.0                  34.0  0.99780  3.51       0.56   \n",
              "...                   ...                   ...      ...   ...        ...   \n",
              "6492                 24.0                  92.0  0.99114  3.27       0.50   \n",
              "6493                 57.0                 168.0  0.99490  3.15       0.46   \n",
              "6494                 30.0                 111.0  0.99254  2.99       0.46   \n",
              "6495                 20.0                 110.0  0.98869  3.34       0.38   \n",
              "6496                 22.0                  98.0  0.98941  3.26       0.32   \n",
              "\n",
              "      alcohol  quality  wineType  \n",
              "0         9.4        5         0  \n",
              "1         9.8        5         0  \n",
              "2         9.8        5         0  \n",
              "3         9.8        6         0  \n",
              "4         9.4        5         0  \n",
              "...       ...      ...       ...  \n",
              "6492     11.2        6         1  \n",
              "6493      9.6        5         1  \n",
              "6494      9.4        6         1  \n",
              "6495     12.8        7         1  \n",
              "6496     11.8        6         1  \n",
              "\n",
              "[6497 rows x 13 columns]"
            ]
          },
          "execution_count": 154,
          "metadata": {},
          "output_type": "execute_result"
        }
      ],
      "source": [
        "df_wine"
      ]
    },
    {
      "cell_type": "code",
      "execution_count": null,
      "metadata": {
        "id": "NjsbYB7sP3sP",
        "outputId": "82fbd0ad-aab7-4fe8-d53a-65820342f969"
      },
      "outputs": [
        {
          "name": "stdout",
          "output_type": "stream",
          "text": [
            "<class 'pandas.core.frame.DataFrame'>\n",
            "RangeIndex: 6497 entries, 0 to 6496\n",
            "Data columns (total 13 columns):\n",
            " #   Column                Non-Null Count  Dtype  \n",
            "---  ------                --------------  -----  \n",
            " 0   fixed acidity         6497 non-null   float64\n",
            " 1   volatile acidity      6497 non-null   float64\n",
            " 2   citric acid           6497 non-null   float64\n",
            " 3   residual sugar        6497 non-null   float64\n",
            " 4   chlorides             6497 non-null   float64\n",
            " 5   free sulfur dioxide   6497 non-null   float64\n",
            " 6   total sulfur dioxide  6497 non-null   float64\n",
            " 7   density               6497 non-null   float64\n",
            " 8   pH                    6497 non-null   float64\n",
            " 9   sulphates             6497 non-null   float64\n",
            " 10  alcohol               6497 non-null   float64\n",
            " 11  quality               6497 non-null   int64  \n",
            " 12  wineType              6497 non-null   int64  \n",
            "dtypes: float64(11), int64(2)\n",
            "memory usage: 660.0 KB\n"
          ]
        }
      ],
      "source": [
        "df_wine.info()"
      ]
    },
    {
      "cell_type": "markdown",
      "metadata": {
        "id": "lVeJ9p_dP3sP"
      },
      "source": [
        "df_wine.info() muestra información de la variable"
      ]
    },
    {
      "cell_type": "code",
      "execution_count": null,
      "metadata": {
        "id": "Xu2hHhJ9P3sQ",
        "outputId": "e6be42e0-738f-4c47-ef91-da20b7d316c5"
      },
      "outputs": [
        {
          "data": {
            "text/html": [
              "<div>\n",
              "<style scoped>\n",
              "    .dataframe tbody tr th:only-of-type {\n",
              "        vertical-align: middle;\n",
              "    }\n",
              "\n",
              "    .dataframe tbody tr th {\n",
              "        vertical-align: top;\n",
              "    }\n",
              "\n",
              "    .dataframe thead th {\n",
              "        text-align: right;\n",
              "    }\n",
              "</style>\n",
              "<table border=\"1\" class=\"dataframe\">\n",
              "  <thead>\n",
              "    <tr style=\"text-align: right;\">\n",
              "      <th></th>\n",
              "      <th>fixed acidity</th>\n",
              "      <th>volatile acidity</th>\n",
              "      <th>citric acid</th>\n",
              "      <th>residual sugar</th>\n",
              "      <th>chlorides</th>\n",
              "      <th>free sulfur dioxide</th>\n",
              "      <th>total sulfur dioxide</th>\n",
              "      <th>density</th>\n",
              "      <th>pH</th>\n",
              "      <th>sulphates</th>\n",
              "      <th>alcohol</th>\n",
              "      <th>quality</th>\n",
              "      <th>wineType</th>\n",
              "    </tr>\n",
              "  </thead>\n",
              "  <tbody>\n",
              "    <tr>\n",
              "      <th>count</th>\n",
              "      <td>6497.000000</td>\n",
              "      <td>6497.000000</td>\n",
              "      <td>6497.000000</td>\n",
              "      <td>6497.000000</td>\n",
              "      <td>6497.000000</td>\n",
              "      <td>6497.000000</td>\n",
              "      <td>6497.000000</td>\n",
              "      <td>6497.000000</td>\n",
              "      <td>6497.000000</td>\n",
              "      <td>6497.000000</td>\n",
              "      <td>6497.000000</td>\n",
              "      <td>6497.000000</td>\n",
              "      <td>6497.000000</td>\n",
              "    </tr>\n",
              "    <tr>\n",
              "      <th>mean</th>\n",
              "      <td>7.215307</td>\n",
              "      <td>0.339666</td>\n",
              "      <td>0.318633</td>\n",
              "      <td>5.443235</td>\n",
              "      <td>0.056034</td>\n",
              "      <td>30.525319</td>\n",
              "      <td>115.744574</td>\n",
              "      <td>0.994697</td>\n",
              "      <td>3.218501</td>\n",
              "      <td>0.531268</td>\n",
              "      <td>10.491801</td>\n",
              "      <td>5.818378</td>\n",
              "      <td>0.753886</td>\n",
              "    </tr>\n",
              "    <tr>\n",
              "      <th>std</th>\n",
              "      <td>1.296434</td>\n",
              "      <td>0.164636</td>\n",
              "      <td>0.145318</td>\n",
              "      <td>4.757804</td>\n",
              "      <td>0.035034</td>\n",
              "      <td>17.749400</td>\n",
              "      <td>56.521855</td>\n",
              "      <td>0.002999</td>\n",
              "      <td>0.160787</td>\n",
              "      <td>0.148806</td>\n",
              "      <td>1.192712</td>\n",
              "      <td>0.873255</td>\n",
              "      <td>0.430779</td>\n",
              "    </tr>\n",
              "    <tr>\n",
              "      <th>min</th>\n",
              "      <td>3.800000</td>\n",
              "      <td>0.080000</td>\n",
              "      <td>0.000000</td>\n",
              "      <td>0.600000</td>\n",
              "      <td>0.009000</td>\n",
              "      <td>1.000000</td>\n",
              "      <td>6.000000</td>\n",
              "      <td>0.987110</td>\n",
              "      <td>2.720000</td>\n",
              "      <td>0.220000</td>\n",
              "      <td>8.000000</td>\n",
              "      <td>3.000000</td>\n",
              "      <td>0.000000</td>\n",
              "    </tr>\n",
              "    <tr>\n",
              "      <th>25%</th>\n",
              "      <td>6.400000</td>\n",
              "      <td>0.230000</td>\n",
              "      <td>0.250000</td>\n",
              "      <td>1.800000</td>\n",
              "      <td>0.038000</td>\n",
              "      <td>17.000000</td>\n",
              "      <td>77.000000</td>\n",
              "      <td>0.992340</td>\n",
              "      <td>3.110000</td>\n",
              "      <td>0.430000</td>\n",
              "      <td>9.500000</td>\n",
              "      <td>5.000000</td>\n",
              "      <td>1.000000</td>\n",
              "    </tr>\n",
              "    <tr>\n",
              "      <th>50%</th>\n",
              "      <td>7.000000</td>\n",
              "      <td>0.290000</td>\n",
              "      <td>0.310000</td>\n",
              "      <td>3.000000</td>\n",
              "      <td>0.047000</td>\n",
              "      <td>29.000000</td>\n",
              "      <td>118.000000</td>\n",
              "      <td>0.994890</td>\n",
              "      <td>3.210000</td>\n",
              "      <td>0.510000</td>\n",
              "      <td>10.300000</td>\n",
              "      <td>6.000000</td>\n",
              "      <td>1.000000</td>\n",
              "    </tr>\n",
              "    <tr>\n",
              "      <th>75%</th>\n",
              "      <td>7.700000</td>\n",
              "      <td>0.400000</td>\n",
              "      <td>0.390000</td>\n",
              "      <td>8.100000</td>\n",
              "      <td>0.065000</td>\n",
              "      <td>41.000000</td>\n",
              "      <td>156.000000</td>\n",
              "      <td>0.996990</td>\n",
              "      <td>3.320000</td>\n",
              "      <td>0.600000</td>\n",
              "      <td>11.300000</td>\n",
              "      <td>6.000000</td>\n",
              "      <td>1.000000</td>\n",
              "    </tr>\n",
              "    <tr>\n",
              "      <th>max</th>\n",
              "      <td>15.900000</td>\n",
              "      <td>1.580000</td>\n",
              "      <td>1.660000</td>\n",
              "      <td>65.800000</td>\n",
              "      <td>0.611000</td>\n",
              "      <td>289.000000</td>\n",
              "      <td>440.000000</td>\n",
              "      <td>1.038980</td>\n",
              "      <td>4.010000</td>\n",
              "      <td>2.000000</td>\n",
              "      <td>14.900000</td>\n",
              "      <td>9.000000</td>\n",
              "      <td>1.000000</td>\n",
              "    </tr>\n",
              "  </tbody>\n",
              "</table>\n",
              "</div>"
            ],
            "text/plain": [
              "       fixed acidity  volatile acidity  citric acid  residual sugar  \\\n",
              "count    6497.000000       6497.000000  6497.000000     6497.000000   \n",
              "mean        7.215307          0.339666     0.318633        5.443235   \n",
              "std         1.296434          0.164636     0.145318        4.757804   \n",
              "min         3.800000          0.080000     0.000000        0.600000   \n",
              "25%         6.400000          0.230000     0.250000        1.800000   \n",
              "50%         7.000000          0.290000     0.310000        3.000000   \n",
              "75%         7.700000          0.400000     0.390000        8.100000   \n",
              "max        15.900000          1.580000     1.660000       65.800000   \n",
              "\n",
              "         chlorides  free sulfur dioxide  total sulfur dioxide      density  \\\n",
              "count  6497.000000          6497.000000           6497.000000  6497.000000   \n",
              "mean      0.056034            30.525319            115.744574     0.994697   \n",
              "std       0.035034            17.749400             56.521855     0.002999   \n",
              "min       0.009000             1.000000              6.000000     0.987110   \n",
              "25%       0.038000            17.000000             77.000000     0.992340   \n",
              "50%       0.047000            29.000000            118.000000     0.994890   \n",
              "75%       0.065000            41.000000            156.000000     0.996990   \n",
              "max       0.611000           289.000000            440.000000     1.038980   \n",
              "\n",
              "                pH    sulphates      alcohol      quality     wineType  \n",
              "count  6497.000000  6497.000000  6497.000000  6497.000000  6497.000000  \n",
              "mean      3.218501     0.531268    10.491801     5.818378     0.753886  \n",
              "std       0.160787     0.148806     1.192712     0.873255     0.430779  \n",
              "min       2.720000     0.220000     8.000000     3.000000     0.000000  \n",
              "25%       3.110000     0.430000     9.500000     5.000000     1.000000  \n",
              "50%       3.210000     0.510000    10.300000     6.000000     1.000000  \n",
              "75%       3.320000     0.600000    11.300000     6.000000     1.000000  \n",
              "max       4.010000     2.000000    14.900000     9.000000     1.000000  "
            ]
          },
          "execution_count": 156,
          "metadata": {},
          "output_type": "execute_result"
        }
      ],
      "source": [
        "df_wine.describe()"
      ]
    },
    {
      "cell_type": "markdown",
      "metadata": {
        "id": "Kk_wEex6P3sQ"
      },
      "source": [
        "df_wine.describe() muestra las estadísticas del data frame"
      ]
    },
    {
      "cell_type": "markdown",
      "metadata": {
        "id": "5vBIr7HeP3sQ"
      },
      "source": [
        "b) Aborde este problema como si fuera de clasificación binaria para predecir si un vino es de calidad o\n",
        "no, es decir, utilice las distintas características fisioquímicas presentes en los datos para estimar esta\n",
        "etiqueta. Para esto cree las matrices de entrenamiento y de pruebas, además de la etiqueta para ambos\n",
        "conjuntos, considerando como quality mayor a 5 un vino de buena calidad. El conjunto de pruebas\n",
        "(25 %) será utilizado únicamente para verificar la calidad de los algoritmos a entrenar.\n",
        "\n",
        "```python\n",
        "1 df[’good_quality’] = [1 if q>5 else 0 for q in df.quality]\n",
        "2 #train and test split over df\n",
        "```"
      ]
    },
    {
      "cell_type": "code",
      "execution_count": null,
      "metadata": {
        "id": "VPZvzCIpP3sQ",
        "outputId": "0e791512-03b3-4da6-b9f0-ab4b51587101"
      },
      "outputs": [
        {
          "data": {
            "text/html": [
              "<div>\n",
              "<style scoped>\n",
              "    .dataframe tbody tr th:only-of-type {\n",
              "        vertical-align: middle;\n",
              "    }\n",
              "\n",
              "    .dataframe tbody tr th {\n",
              "        vertical-align: top;\n",
              "    }\n",
              "\n",
              "    .dataframe thead th {\n",
              "        text-align: right;\n",
              "    }\n",
              "</style>\n",
              "<table border=\"1\" class=\"dataframe\">\n",
              "  <thead>\n",
              "    <tr style=\"text-align: right;\">\n",
              "      <th></th>\n",
              "      <th>fixed acidity</th>\n",
              "      <th>volatile acidity</th>\n",
              "      <th>citric acid</th>\n",
              "      <th>residual sugar</th>\n",
              "      <th>chlorides</th>\n",
              "      <th>free sulfur dioxide</th>\n",
              "      <th>total sulfur dioxide</th>\n",
              "      <th>density</th>\n",
              "      <th>pH</th>\n",
              "      <th>sulphates</th>\n",
              "      <th>alcohol</th>\n",
              "      <th>quality</th>\n",
              "      <th>wineType</th>\n",
              "      <th>premiumQuality</th>\n",
              "    </tr>\n",
              "  </thead>\n",
              "  <tbody>\n",
              "    <tr>\n",
              "      <th>0</th>\n",
              "      <td>7.4</td>\n",
              "      <td>0.70</td>\n",
              "      <td>0.00</td>\n",
              "      <td>1.9</td>\n",
              "      <td>0.076</td>\n",
              "      <td>11.0</td>\n",
              "      <td>34.0</td>\n",
              "      <td>0.99780</td>\n",
              "      <td>3.51</td>\n",
              "      <td>0.56</td>\n",
              "      <td>9.4</td>\n",
              "      <td>5</td>\n",
              "      <td>0</td>\n",
              "      <td>0</td>\n",
              "    </tr>\n",
              "    <tr>\n",
              "      <th>1</th>\n",
              "      <td>7.8</td>\n",
              "      <td>0.88</td>\n",
              "      <td>0.00</td>\n",
              "      <td>2.6</td>\n",
              "      <td>0.098</td>\n",
              "      <td>25.0</td>\n",
              "      <td>67.0</td>\n",
              "      <td>0.99680</td>\n",
              "      <td>3.20</td>\n",
              "      <td>0.68</td>\n",
              "      <td>9.8</td>\n",
              "      <td>5</td>\n",
              "      <td>0</td>\n",
              "      <td>0</td>\n",
              "    </tr>\n",
              "    <tr>\n",
              "      <th>2</th>\n",
              "      <td>7.8</td>\n",
              "      <td>0.76</td>\n",
              "      <td>0.04</td>\n",
              "      <td>2.3</td>\n",
              "      <td>0.092</td>\n",
              "      <td>15.0</td>\n",
              "      <td>54.0</td>\n",
              "      <td>0.99700</td>\n",
              "      <td>3.26</td>\n",
              "      <td>0.65</td>\n",
              "      <td>9.8</td>\n",
              "      <td>5</td>\n",
              "      <td>0</td>\n",
              "      <td>0</td>\n",
              "    </tr>\n",
              "    <tr>\n",
              "      <th>3</th>\n",
              "      <td>11.2</td>\n",
              "      <td>0.28</td>\n",
              "      <td>0.56</td>\n",
              "      <td>1.9</td>\n",
              "      <td>0.075</td>\n",
              "      <td>17.0</td>\n",
              "      <td>60.0</td>\n",
              "      <td>0.99800</td>\n",
              "      <td>3.16</td>\n",
              "      <td>0.58</td>\n",
              "      <td>9.8</td>\n",
              "      <td>6</td>\n",
              "      <td>0</td>\n",
              "      <td>1</td>\n",
              "    </tr>\n",
              "    <tr>\n",
              "      <th>4</th>\n",
              "      <td>7.4</td>\n",
              "      <td>0.70</td>\n",
              "      <td>0.00</td>\n",
              "      <td>1.9</td>\n",
              "      <td>0.076</td>\n",
              "      <td>11.0</td>\n",
              "      <td>34.0</td>\n",
              "      <td>0.99780</td>\n",
              "      <td>3.51</td>\n",
              "      <td>0.56</td>\n",
              "      <td>9.4</td>\n",
              "      <td>5</td>\n",
              "      <td>0</td>\n",
              "      <td>0</td>\n",
              "    </tr>\n",
              "    <tr>\n",
              "      <th>...</th>\n",
              "      <td>...</td>\n",
              "      <td>...</td>\n",
              "      <td>...</td>\n",
              "      <td>...</td>\n",
              "      <td>...</td>\n",
              "      <td>...</td>\n",
              "      <td>...</td>\n",
              "      <td>...</td>\n",
              "      <td>...</td>\n",
              "      <td>...</td>\n",
              "      <td>...</td>\n",
              "      <td>...</td>\n",
              "      <td>...</td>\n",
              "      <td>...</td>\n",
              "    </tr>\n",
              "    <tr>\n",
              "      <th>6492</th>\n",
              "      <td>6.2</td>\n",
              "      <td>0.21</td>\n",
              "      <td>0.29</td>\n",
              "      <td>1.6</td>\n",
              "      <td>0.039</td>\n",
              "      <td>24.0</td>\n",
              "      <td>92.0</td>\n",
              "      <td>0.99114</td>\n",
              "      <td>3.27</td>\n",
              "      <td>0.50</td>\n",
              "      <td>11.2</td>\n",
              "      <td>6</td>\n",
              "      <td>1</td>\n",
              "      <td>1</td>\n",
              "    </tr>\n",
              "    <tr>\n",
              "      <th>6493</th>\n",
              "      <td>6.6</td>\n",
              "      <td>0.32</td>\n",
              "      <td>0.36</td>\n",
              "      <td>8.0</td>\n",
              "      <td>0.047</td>\n",
              "      <td>57.0</td>\n",
              "      <td>168.0</td>\n",
              "      <td>0.99490</td>\n",
              "      <td>3.15</td>\n",
              "      <td>0.46</td>\n",
              "      <td>9.6</td>\n",
              "      <td>5</td>\n",
              "      <td>1</td>\n",
              "      <td>0</td>\n",
              "    </tr>\n",
              "    <tr>\n",
              "      <th>6494</th>\n",
              "      <td>6.5</td>\n",
              "      <td>0.24</td>\n",
              "      <td>0.19</td>\n",
              "      <td>1.2</td>\n",
              "      <td>0.041</td>\n",
              "      <td>30.0</td>\n",
              "      <td>111.0</td>\n",
              "      <td>0.99254</td>\n",
              "      <td>2.99</td>\n",
              "      <td>0.46</td>\n",
              "      <td>9.4</td>\n",
              "      <td>6</td>\n",
              "      <td>1</td>\n",
              "      <td>1</td>\n",
              "    </tr>\n",
              "    <tr>\n",
              "      <th>6495</th>\n",
              "      <td>5.5</td>\n",
              "      <td>0.29</td>\n",
              "      <td>0.30</td>\n",
              "      <td>1.1</td>\n",
              "      <td>0.022</td>\n",
              "      <td>20.0</td>\n",
              "      <td>110.0</td>\n",
              "      <td>0.98869</td>\n",
              "      <td>3.34</td>\n",
              "      <td>0.38</td>\n",
              "      <td>12.8</td>\n",
              "      <td>7</td>\n",
              "      <td>1</td>\n",
              "      <td>1</td>\n",
              "    </tr>\n",
              "    <tr>\n",
              "      <th>6496</th>\n",
              "      <td>6.0</td>\n",
              "      <td>0.21</td>\n",
              "      <td>0.38</td>\n",
              "      <td>0.8</td>\n",
              "      <td>0.020</td>\n",
              "      <td>22.0</td>\n",
              "      <td>98.0</td>\n",
              "      <td>0.98941</td>\n",
              "      <td>3.26</td>\n",
              "      <td>0.32</td>\n",
              "      <td>11.8</td>\n",
              "      <td>6</td>\n",
              "      <td>1</td>\n",
              "      <td>1</td>\n",
              "    </tr>\n",
              "  </tbody>\n",
              "</table>\n",
              "<p>6497 rows × 14 columns</p>\n",
              "</div>"
            ],
            "text/plain": [
              "      fixed acidity  volatile acidity  citric acid  residual sugar  chlorides  \\\n",
              "0               7.4              0.70         0.00             1.9      0.076   \n",
              "1               7.8              0.88         0.00             2.6      0.098   \n",
              "2               7.8              0.76         0.04             2.3      0.092   \n",
              "3              11.2              0.28         0.56             1.9      0.075   \n",
              "4               7.4              0.70         0.00             1.9      0.076   \n",
              "...             ...               ...          ...             ...        ...   \n",
              "6492            6.2              0.21         0.29             1.6      0.039   \n",
              "6493            6.6              0.32         0.36             8.0      0.047   \n",
              "6494            6.5              0.24         0.19             1.2      0.041   \n",
              "6495            5.5              0.29         0.30             1.1      0.022   \n",
              "6496            6.0              0.21         0.38             0.8      0.020   \n",
              "\n",
              "      free sulfur dioxide  total sulfur dioxide  density    pH  sulphates  \\\n",
              "0                    11.0                  34.0  0.99780  3.51       0.56   \n",
              "1                    25.0                  67.0  0.99680  3.20       0.68   \n",
              "2                    15.0                  54.0  0.99700  3.26       0.65   \n",
              "3                    17.0                  60.0  0.99800  3.16       0.58   \n",
              "4                    11.0                  34.0  0.99780  3.51       0.56   \n",
              "...                   ...                   ...      ...   ...        ...   \n",
              "6492                 24.0                  92.0  0.99114  3.27       0.50   \n",
              "6493                 57.0                 168.0  0.99490  3.15       0.46   \n",
              "6494                 30.0                 111.0  0.99254  2.99       0.46   \n",
              "6495                 20.0                 110.0  0.98869  3.34       0.38   \n",
              "6496                 22.0                  98.0  0.98941  3.26       0.32   \n",
              "\n",
              "      alcohol  quality  wineType  premiumQuality  \n",
              "0         9.4        5         0               0  \n",
              "1         9.8        5         0               0  \n",
              "2         9.8        5         0               0  \n",
              "3         9.8        6         0               1  \n",
              "4         9.4        5         0               0  \n",
              "...       ...      ...       ...             ...  \n",
              "6492     11.2        6         1               1  \n",
              "6493      9.6        5         1               0  \n",
              "6494      9.4        6         1               1  \n",
              "6495     12.8        7         1               1  \n",
              "6496     11.8        6         1               1  \n",
              "\n",
              "[6497 rows x 14 columns]"
            ]
          },
          "execution_count": 157,
          "metadata": {},
          "output_type": "execute_result"
        }
      ],
      "source": [
        "df_wine['premiumQuality'] = [1 if q>5 else 0 for q in df_wine.quality]\n",
        "df_wine"
      ]
    },
    {
      "cell_type": "markdown",
      "metadata": {
        "id": "g2ZPMrIEP3sQ"
      },
      "source": [
        "si la calidad es mayor a 5, se puede considerar vino premium, o de calidad superior"
      ]
    },
    {
      "cell_type": "code",
      "execution_count": null,
      "metadata": {
        "id": "PU_PI3esP3sQ"
      },
      "outputs": [],
      "source": [
        "import pandas as pd # ejecutar solo si no se ha ejecutado previamente"
      ]
    },
    {
      "cell_type": "code",
      "execution_count": null,
      "metadata": {
        "id": "e1aeIi6_P3sQ"
      },
      "outputs": [],
      "source": [
        "from sklearn.preprocessing import StandardScaler\n",
        "from sklearn.model_selection import train_test_split # banana_split\n",
        "\n",
        "df_wine_premium_quality = df_wine['premiumQuality']\n",
        "df_wine_noquality = df_wine.drop(['quality','premiumQuality'],axis=1)\n",
        "scaler = StandardScaler()\n",
        "df_wine_fit = pd.DataFrame(scaler.fit_transform(df_wine_noquality), columns=df_wine_noquality.columns)\n",
        "\n",
        "x_wine_train, x_wine_test, y_wine_train, y_wine_test = train_test_split(df_wine_fit,df_wine_premium_quality, test_size = 0.25, random_state = 42)"
      ]
    },
    {
      "cell_type": "markdown",
      "metadata": {
        "id": "B2eNQJdsP3sQ"
      },
      "source": [
        "Acá separamos"
      ]
    },
    {
      "cell_type": "markdown",
      "metadata": {
        "id": "2aeF3gshP3sR"
      },
      "source": [
        "\n",
        "\n"
      ]
    },
    {
      "cell_type": "code",
      "execution_count": null,
      "metadata": {
        "id": "XkvoPlfUP3sR",
        "outputId": "f7389a46-15a7-4b56-97e4-1cb4bb48627b"
      },
      "outputs": [
        {
          "data": {
            "text/html": [
              "<div>\n",
              "<style scoped>\n",
              "    .dataframe tbody tr th:only-of-type {\n",
              "        vertical-align: middle;\n",
              "    }\n",
              "\n",
              "    .dataframe tbody tr th {\n",
              "        vertical-align: top;\n",
              "    }\n",
              "\n",
              "    .dataframe thead th {\n",
              "        text-align: right;\n",
              "    }\n",
              "</style>\n",
              "<table border=\"1\" class=\"dataframe\">\n",
              "  <thead>\n",
              "    <tr style=\"text-align: right;\">\n",
              "      <th></th>\n",
              "      <th>fixed acidity</th>\n",
              "      <th>volatile acidity</th>\n",
              "      <th>citric acid</th>\n",
              "      <th>residual sugar</th>\n",
              "      <th>chlorides</th>\n",
              "      <th>free sulfur dioxide</th>\n",
              "      <th>total sulfur dioxide</th>\n",
              "      <th>density</th>\n",
              "      <th>pH</th>\n",
              "      <th>sulphates</th>\n",
              "      <th>alcohol</th>\n",
              "      <th>wineType</th>\n",
              "    </tr>\n",
              "  </thead>\n",
              "  <tbody>\n",
              "    <tr>\n",
              "      <th>1539</th>\n",
              "      <td>-0.011808</td>\n",
              "      <td>0.305752</td>\n",
              "      <td>0.009406</td>\n",
              "      <td>-0.765798</td>\n",
              "      <td>0.255949</td>\n",
              "      <td>0.195778</td>\n",
              "      <td>-0.986324</td>\n",
              "      <td>0.814879</td>\n",
              "      <td>1.502096</td>\n",
              "      <td>1.671647</td>\n",
              "      <td>-0.496219</td>\n",
              "      <td>-1.750190</td>\n",
              "    </tr>\n",
              "    <tr>\n",
              "      <th>1109</th>\n",
              "      <td>2.765254</td>\n",
              "      <td>0.791708</td>\n",
              "      <td>0.766426</td>\n",
              "      <td>-0.702739</td>\n",
              "      <td>3.281849</td>\n",
              "      <td>-0.198632</td>\n",
              "      <td>-0.880162</td>\n",
              "      <td>1.168395</td>\n",
              "      <td>-0.301669</td>\n",
              "      <td>1.537233</td>\n",
              "      <td>0.258422</td>\n",
              "      <td>-1.750190</td>\n",
              "    </tr>\n",
              "    <tr>\n",
              "      <th>100</th>\n",
              "      <td>0.836739</td>\n",
              "      <td>1.642132</td>\n",
              "      <td>-0.128234</td>\n",
              "      <td>-0.702739</td>\n",
              "      <td>0.798328</td>\n",
              "      <td>-1.100140</td>\n",
              "      <td>-1.163260</td>\n",
              "      <td>0.834889</td>\n",
              "      <td>1.128903</td>\n",
              "      <td>0.529131</td>\n",
              "      <td>-0.244672</td>\n",
              "      <td>-1.750190</td>\n",
              "    </tr>\n",
              "    <tr>\n",
              "      <th>5477</th>\n",
              "      <td>-0.551792</td>\n",
              "      <td>0.062773</td>\n",
              "      <td>-0.059414</td>\n",
              "      <td>0.999859</td>\n",
              "      <td>0.370134</td>\n",
              "      <td>1.548041</td>\n",
              "      <td>0.959976</td>\n",
              "      <td>0.741507</td>\n",
              "      <td>-0.239471</td>\n",
              "      <td>-0.277351</td>\n",
              "      <td>-0.915464</td>\n",
              "      <td>0.571367</td>\n",
              "    </tr>\n",
              "    <tr>\n",
              "      <th>6416</th>\n",
              "      <td>-1.091777</td>\n",
              "      <td>0.275379</td>\n",
              "      <td>-0.472334</td>\n",
              "      <td>-0.366423</td>\n",
              "      <td>-0.714622</td>\n",
              "      <td>0.421155</td>\n",
              "      <td>0.110681</td>\n",
              "      <td>-1.139470</td>\n",
              "      <td>-0.115073</td>\n",
              "      <td>0.663545</td>\n",
              "      <td>0.593818</td>\n",
              "      <td>0.571367</td>\n",
              "    </tr>\n",
              "    <tr>\n",
              "      <th>...</th>\n",
              "      <td>...</td>\n",
              "      <td>...</td>\n",
              "      <td>...</td>\n",
              "      <td>...</td>\n",
              "      <td>...</td>\n",
              "      <td>...</td>\n",
              "      <td>...</td>\n",
              "      <td>...</td>\n",
              "      <td>...</td>\n",
              "      <td>...</td>\n",
              "      <td>...</td>\n",
              "      <td>...</td>\n",
              "    </tr>\n",
              "    <tr>\n",
              "      <th>3772</th>\n",
              "      <td>0.296754</td>\n",
              "      <td>-0.119460</td>\n",
              "      <td>1.798725</td>\n",
              "      <td>2.376650</td>\n",
              "      <td>-0.172244</td>\n",
              "      <td>0.702877</td>\n",
              "      <td>0.836120</td>\n",
              "      <td>1.735356</td>\n",
              "      <td>-0.426067</td>\n",
              "      <td>0.058683</td>\n",
              "      <td>-1.083162</td>\n",
              "      <td>0.571367</td>\n",
              "    </tr>\n",
              "    <tr>\n",
              "      <th>5191</th>\n",
              "      <td>-1.246058</td>\n",
              "      <td>-0.362438</td>\n",
              "      <td>-0.334694</td>\n",
              "      <td>-0.324384</td>\n",
              "      <td>-0.372068</td>\n",
              "      <td>1.209975</td>\n",
              "      <td>0.747652</td>\n",
              "      <td>-0.892675</td>\n",
              "      <td>0.817909</td>\n",
              "      <td>-0.613385</td>\n",
              "      <td>0.174573</td>\n",
              "      <td>0.571367</td>\n",
              "    </tr>\n",
              "    <tr>\n",
              "      <th>5226</th>\n",
              "      <td>-0.628933</td>\n",
              "      <td>0.184263</td>\n",
              "      <td>-0.816433</td>\n",
              "      <td>0.032951</td>\n",
              "      <td>1.740353</td>\n",
              "      <td>1.717074</td>\n",
              "      <td>1.189993</td>\n",
              "      <td>-0.035563</td>\n",
              "      <td>0.133722</td>\n",
              "      <td>-0.680592</td>\n",
              "      <td>-0.831615</td>\n",
              "      <td>0.571367</td>\n",
              "    </tr>\n",
              "    <tr>\n",
              "      <th>5390</th>\n",
              "      <td>-0.551792</td>\n",
              "      <td>-0.483928</td>\n",
              "      <td>1.248165</td>\n",
              "      <td>0.537425</td>\n",
              "      <td>-0.143698</td>\n",
              "      <td>0.871910</td>\n",
              "      <td>1.437704</td>\n",
              "      <td>0.221237</td>\n",
              "      <td>-0.239471</td>\n",
              "      <td>-0.411765</td>\n",
              "      <td>-0.831615</td>\n",
              "      <td>0.571367</td>\n",
              "    </tr>\n",
              "    <tr>\n",
              "      <th>860</th>\n",
              "      <td>-0.011808</td>\n",
              "      <td>1.702876</td>\n",
              "      <td>-1.779913</td>\n",
              "      <td>-0.576620</td>\n",
              "      <td>0.598504</td>\n",
              "      <td>-0.874763</td>\n",
              "      <td>-0.543983</td>\n",
              "      <td>0.921601</td>\n",
              "      <td>1.813090</td>\n",
              "      <td>0.058683</td>\n",
              "      <td>-0.831615</td>\n",
              "      <td>-1.750190</td>\n",
              "    </tr>\n",
              "  </tbody>\n",
              "</table>\n",
              "<p>4872 rows × 12 columns</p>\n",
              "</div>"
            ],
            "text/plain": [
              "      fixed acidity  volatile acidity  citric acid  residual sugar  chlorides  \\\n",
              "1539      -0.011808          0.305752     0.009406       -0.765798   0.255949   \n",
              "1109       2.765254          0.791708     0.766426       -0.702739   3.281849   \n",
              "100        0.836739          1.642132    -0.128234       -0.702739   0.798328   \n",
              "5477      -0.551792          0.062773    -0.059414        0.999859   0.370134   \n",
              "6416      -1.091777          0.275379    -0.472334       -0.366423  -0.714622   \n",
              "...             ...               ...          ...             ...        ...   \n",
              "3772       0.296754         -0.119460     1.798725        2.376650  -0.172244   \n",
              "5191      -1.246058         -0.362438    -0.334694       -0.324384  -0.372068   \n",
              "5226      -0.628933          0.184263    -0.816433        0.032951   1.740353   \n",
              "5390      -0.551792         -0.483928     1.248165        0.537425  -0.143698   \n",
              "860       -0.011808          1.702876    -1.779913       -0.576620   0.598504   \n",
              "\n",
              "      free sulfur dioxide  total sulfur dioxide   density        pH  \\\n",
              "1539             0.195778             -0.986324  0.814879  1.502096   \n",
              "1109            -0.198632             -0.880162  1.168395 -0.301669   \n",
              "100             -1.100140             -1.163260  0.834889  1.128903   \n",
              "5477             1.548041              0.959976  0.741507 -0.239471   \n",
              "6416             0.421155              0.110681 -1.139470 -0.115073   \n",
              "...                   ...                   ...       ...       ...   \n",
              "3772             0.702877              0.836120  1.735356 -0.426067   \n",
              "5191             1.209975              0.747652 -0.892675  0.817909   \n",
              "5226             1.717074              1.189993 -0.035563  0.133722   \n",
              "5390             0.871910              1.437704  0.221237 -0.239471   \n",
              "860             -0.874763             -0.543983  0.921601  1.813090   \n",
              "\n",
              "      sulphates   alcohol  wineType  \n",
              "1539   1.671647 -0.496219 -1.750190  \n",
              "1109   1.537233  0.258422 -1.750190  \n",
              "100    0.529131 -0.244672 -1.750190  \n",
              "5477  -0.277351 -0.915464  0.571367  \n",
              "6416   0.663545  0.593818  0.571367  \n",
              "...         ...       ...       ...  \n",
              "3772   0.058683 -1.083162  0.571367  \n",
              "5191  -0.613385  0.174573  0.571367  \n",
              "5226  -0.680592 -0.831615  0.571367  \n",
              "5390  -0.411765 -0.831615  0.571367  \n",
              "860    0.058683 -0.831615 -1.750190  \n",
              "\n",
              "[4872 rows x 12 columns]"
            ]
          },
          "execution_count": 161,
          "metadata": {},
          "output_type": "execute_result"
        }
      ],
      "source": [
        "x_wine_train"
      ]
    },
    {
      "cell_type": "code",
      "execution_count": null,
      "metadata": {
        "id": "d36lsYaHP3sR",
        "outputId": "1380884b-2706-48d7-ca19-83349d3f7c31"
      },
      "outputs": [
        {
          "data": {
            "text/html": [
              "<div>\n",
              "<style scoped>\n",
              "    .dataframe tbody tr th:only-of-type {\n",
              "        vertical-align: middle;\n",
              "    }\n",
              "\n",
              "    .dataframe tbody tr th {\n",
              "        vertical-align: top;\n",
              "    }\n",
              "\n",
              "    .dataframe thead th {\n",
              "        text-align: right;\n",
              "    }\n",
              "</style>\n",
              "<table border=\"1\" class=\"dataframe\">\n",
              "  <thead>\n",
              "    <tr style=\"text-align: right;\">\n",
              "      <th></th>\n",
              "      <th>fixed acidity</th>\n",
              "      <th>volatile acidity</th>\n",
              "      <th>citric acid</th>\n",
              "      <th>residual sugar</th>\n",
              "      <th>chlorides</th>\n",
              "      <th>free sulfur dioxide</th>\n",
              "      <th>total sulfur dioxide</th>\n",
              "      <th>density</th>\n",
              "      <th>pH</th>\n",
              "      <th>sulphates</th>\n",
              "      <th>alcohol</th>\n",
              "      <th>wineType</th>\n",
              "    </tr>\n",
              "  </thead>\n",
              "  <tbody>\n",
              "    <tr>\n",
              "      <th>3103</th>\n",
              "      <td>-0.166089</td>\n",
              "      <td>-1.030629</td>\n",
              "      <td>2.899845</td>\n",
              "      <td>1.546371</td>\n",
              "      <td>-0.314975</td>\n",
              "      <td>-0.367664</td>\n",
              "      <td>0.181456</td>\n",
              "      <td>-0.165631</td>\n",
              "      <td>0.258120</td>\n",
              "      <td>-1.016626</td>\n",
              "      <td>1.432308</td>\n",
              "      <td>0.571367</td>\n",
              "    </tr>\n",
              "    <tr>\n",
              "      <th>1419</th>\n",
              "      <td>0.373895</td>\n",
              "      <td>1.824366</td>\n",
              "      <td>-0.747613</td>\n",
              "      <td>-0.681719</td>\n",
              "      <td>0.598504</td>\n",
              "      <td>0.083090</td>\n",
              "      <td>0.305311</td>\n",
              "      <td>0.301278</td>\n",
              "      <td>0.320319</td>\n",
              "      <td>-0.546178</td>\n",
              "      <td>-0.496219</td>\n",
              "      <td>-1.750190</td>\n",
              "    </tr>\n",
              "    <tr>\n",
              "      <th>4761</th>\n",
              "      <td>-0.320370</td>\n",
              "      <td>0.305752</td>\n",
              "      <td>0.147046</td>\n",
              "      <td>0.411306</td>\n",
              "      <td>-1.028631</td>\n",
              "      <td>0.421155</td>\n",
              "      <td>0.305311</td>\n",
              "      <td>-0.859324</td>\n",
              "      <td>-0.239471</td>\n",
              "      <td>-0.613385</td>\n",
              "      <td>1.264610</td>\n",
              "      <td>0.571367</td>\n",
              "    </tr>\n",
              "    <tr>\n",
              "      <th>4690</th>\n",
              "      <td>-0.706073</td>\n",
              "      <td>-0.362438</td>\n",
              "      <td>1.041706</td>\n",
              "      <td>1.210056</td>\n",
              "      <td>-0.457706</td>\n",
              "      <td>1.717074</td>\n",
              "      <td>1.189993</td>\n",
              "      <td>0.408001</td>\n",
              "      <td>-0.612663</td>\n",
              "      <td>-0.142937</td>\n",
              "      <td>-0.831615</td>\n",
              "      <td>0.571367</td>\n",
              "    </tr>\n",
              "    <tr>\n",
              "      <th>4032</th>\n",
              "      <td>0.142473</td>\n",
              "      <td>0.062773</td>\n",
              "      <td>-0.816433</td>\n",
              "      <td>1.777588</td>\n",
              "      <td>-0.058059</td>\n",
              "      <td>1.829762</td>\n",
              "      <td>2.003900</td>\n",
              "      <td>1.395180</td>\n",
              "      <td>-0.674862</td>\n",
              "      <td>-0.210144</td>\n",
              "      <td>-1.334709</td>\n",
              "      <td>0.571367</td>\n",
              "    </tr>\n",
              "    <tr>\n",
              "      <th>...</th>\n",
              "      <td>...</td>\n",
              "      <td>...</td>\n",
              "      <td>...</td>\n",
              "      <td>...</td>\n",
              "      <td>...</td>\n",
              "      <td>...</td>\n",
              "      <td>...</td>\n",
              "      <td>...</td>\n",
              "      <td>...</td>\n",
              "      <td>...</td>\n",
              "      <td>...</td>\n",
              "      <td>...</td>\n",
              "    </tr>\n",
              "    <tr>\n",
              "      <th>4509</th>\n",
              "      <td>-0.860355</td>\n",
              "      <td>0.184263</td>\n",
              "      <td>-0.816433</td>\n",
              "      <td>0.453346</td>\n",
              "      <td>-0.714622</td>\n",
              "      <td>1.040942</td>\n",
              "      <td>0.959976</td>\n",
              "      <td>0.294608</td>\n",
              "      <td>0.009325</td>\n",
              "      <td>-0.344558</td>\n",
              "      <td>-0.831615</td>\n",
              "      <td>0.571367</td>\n",
              "    </tr>\n",
              "    <tr>\n",
              "      <th>3350</th>\n",
              "      <td>-0.397511</td>\n",
              "      <td>-1.091373</td>\n",
              "      <td>-0.265874</td>\n",
              "      <td>-0.618660</td>\n",
              "      <td>-0.286429</td>\n",
              "      <td>0.533844</td>\n",
              "      <td>0.659184</td>\n",
              "      <td>-0.865994</td>\n",
              "      <td>1.004505</td>\n",
              "      <td>-0.142937</td>\n",
              "      <td>0.761516</td>\n",
              "      <td>0.571367</td>\n",
              "    </tr>\n",
              "    <tr>\n",
              "      <th>1730</th>\n",
              "      <td>-0.551792</td>\n",
              "      <td>-0.605417</td>\n",
              "      <td>0.009406</td>\n",
              "      <td>0.453346</td>\n",
              "      <td>-0.514799</td>\n",
              "      <td>0.984598</td>\n",
              "      <td>1.543866</td>\n",
              "      <td>0.367980</td>\n",
              "      <td>1.439897</td>\n",
              "      <td>0.058683</td>\n",
              "      <td>-0.663917</td>\n",
              "      <td>0.571367</td>\n",
              "    </tr>\n",
              "    <tr>\n",
              "      <th>2225</th>\n",
              "      <td>0.296754</td>\n",
              "      <td>1.338409</td>\n",
              "      <td>-1.366993</td>\n",
              "      <td>1.041898</td>\n",
              "      <td>1.140882</td>\n",
              "      <td>-0.480353</td>\n",
              "      <td>1.083831</td>\n",
              "      <td>1.201746</td>\n",
              "      <td>0.631312</td>\n",
              "      <td>-0.546178</td>\n",
              "      <td>-1.167011</td>\n",
              "      <td>0.571367</td>\n",
              "    </tr>\n",
              "    <tr>\n",
              "      <th>5230</th>\n",
              "      <td>-0.474652</td>\n",
              "      <td>-0.240949</td>\n",
              "      <td>-0.472334</td>\n",
              "      <td>0.537425</td>\n",
              "      <td>-0.571891</td>\n",
              "      <td>-0.536697</td>\n",
              "      <td>0.146068</td>\n",
              "      <td>-0.359064</td>\n",
              "      <td>-0.985856</td>\n",
              "      <td>-1.016626</td>\n",
              "      <td>0.258422</td>\n",
              "      <td>0.571367</td>\n",
              "    </tr>\n",
              "  </tbody>\n",
              "</table>\n",
              "<p>1625 rows × 12 columns</p>\n",
              "</div>"
            ],
            "text/plain": [
              "      fixed acidity  volatile acidity  citric acid  residual sugar  chlorides  \\\n",
              "3103      -0.166089         -1.030629     2.899845        1.546371  -0.314975   \n",
              "1419       0.373895          1.824366    -0.747613       -0.681719   0.598504   \n",
              "4761      -0.320370          0.305752     0.147046        0.411306  -1.028631   \n",
              "4690      -0.706073         -0.362438     1.041706        1.210056  -0.457706   \n",
              "4032       0.142473          0.062773    -0.816433        1.777588  -0.058059   \n",
              "...             ...               ...          ...             ...        ...   \n",
              "4509      -0.860355          0.184263    -0.816433        0.453346  -0.714622   \n",
              "3350      -0.397511         -1.091373    -0.265874       -0.618660  -0.286429   \n",
              "1730      -0.551792         -0.605417     0.009406        0.453346  -0.514799   \n",
              "2225       0.296754          1.338409    -1.366993        1.041898   1.140882   \n",
              "5230      -0.474652         -0.240949    -0.472334        0.537425  -0.571891   \n",
              "\n",
              "      free sulfur dioxide  total sulfur dioxide   density        pH  \\\n",
              "3103            -0.367664              0.181456 -0.165631  0.258120   \n",
              "1419             0.083090              0.305311  0.301278  0.320319   \n",
              "4761             0.421155              0.305311 -0.859324 -0.239471   \n",
              "4690             1.717074              1.189993  0.408001 -0.612663   \n",
              "4032             1.829762              2.003900  1.395180 -0.674862   \n",
              "...                   ...                   ...       ...       ...   \n",
              "4509             1.040942              0.959976  0.294608  0.009325   \n",
              "3350             0.533844              0.659184 -0.865994  1.004505   \n",
              "1730             0.984598              1.543866  0.367980  1.439897   \n",
              "2225            -0.480353              1.083831  1.201746  0.631312   \n",
              "5230            -0.536697              0.146068 -0.359064 -0.985856   \n",
              "\n",
              "      sulphates   alcohol  wineType  \n",
              "3103  -1.016626  1.432308  0.571367  \n",
              "1419  -0.546178 -0.496219 -1.750190  \n",
              "4761  -0.613385  1.264610  0.571367  \n",
              "4690  -0.142937 -0.831615  0.571367  \n",
              "4032  -0.210144 -1.334709  0.571367  \n",
              "...         ...       ...       ...  \n",
              "4509  -0.344558 -0.831615  0.571367  \n",
              "3350  -0.142937  0.761516  0.571367  \n",
              "1730   0.058683 -0.663917  0.571367  \n",
              "2225  -0.546178 -1.167011  0.571367  \n",
              "5230  -1.016626  0.258422  0.571367  \n",
              "\n",
              "[1625 rows x 12 columns]"
            ]
          },
          "execution_count": 162,
          "metadata": {},
          "output_type": "execute_result"
        }
      ],
      "source": [
        "x_wine_test"
      ]
    },
    {
      "cell_type": "code",
      "execution_count": null,
      "metadata": {
        "id": "wOYNsWevP3sR",
        "outputId": "5ca93b68-5f98-4031-8944-2da9f43cd814"
      },
      "outputs": [
        {
          "data": {
            "text/plain": [
              "1539    0\n",
              "1109    1\n",
              "100     1\n",
              "5477    0\n",
              "6416    1\n",
              "       ..\n",
              "3772    0\n",
              "5191    1\n",
              "5226    0\n",
              "5390    0\n",
              "860     0\n",
              "Name: premiumQuality, Length: 4872, dtype: int64"
            ]
          },
          "execution_count": 163,
          "metadata": {},
          "output_type": "execute_result"
        }
      ],
      "source": [
        "y_wine_train"
      ]
    },
    {
      "cell_type": "code",
      "execution_count": null,
      "metadata": {
        "id": "r5ypQvHNP3sR",
        "outputId": "22de35b6-1ea6-4b3f-ff81-ec661034284b"
      },
      "outputs": [
        {
          "data": {
            "text/plain": [
              "3103    1\n",
              "1419    0\n",
              "4761    1\n",
              "4690    1\n",
              "4032    1\n",
              "       ..\n",
              "4509    0\n",
              "3350    1\n",
              "1730    1\n",
              "2225    0\n",
              "5230    1\n",
              "Name: premiumQuality, Length: 1625, dtype: int64"
            ]
          },
          "execution_count": 164,
          "metadata": {},
          "output_type": "execute_result"
        }
      ],
      "source": [
        "y_wine_test"
      ]
    },
    {
      "cell_type": "markdown",
      "metadata": {
        "id": "zFJXB5C2P3sR"
      },
      "source": [
        "c) Entrene un solo Arbol de Clasificación de múltiples niveles para resolver el problema. Puede variar los\n",
        "hiper-parámetros que prefiera, recuerde que las decisiones no pueden ser basadas mirando el conjunto\n",
        "de pruebas. Debido al desbalanceo que se produce en las dos clases mida la métrica F1-score https://scikit-learn.org/stable/modules/generated/sklearn.metrics.f1_score.html sobre\n",
        "el conjunto de entrenamiento y de pruebas."
      ]
    },
    {
      "cell_type": "code",
      "execution_count": null,
      "metadata": {
        "id": "herurYMQP3sR",
        "outputId": "66963cff-f6cc-4f7b-beeb-4df54255f0f2"
      },
      "outputs": [
        {
          "data": {
            "image/png": "[encoded data removed]",
            "text/plain": [
              "<Figure size 360x360 with 2 Axes>"
            ]
          },
          "metadata": {
            "needs_background": "light"
          },
          "output_type": "display_data"
        }
      ],
      "source": [
        "import matplotlib.pyplot as plt\n",
        "from sklearn.tree import DecisionTreeClassifier as decisive\n",
        "from sklearn.metrics import confusion_matrix\n",
        "from sklearn.metrics import ConfusionMatrixDisplay\n",
        "wine_quality_tree = decisive(random_state=42)\n",
        "wine_quality_tree.fit(x_wine_train,y_wine_train)\n",
        "wine_quality_predict = wine_quality_tree.predict(x_wine_test)\n",
        "wine_confusion = confusion_matrix(y_wine_test,wine_quality_predict)\n",
        "disp = ConfusionMatrixDisplay(wine_confusion)\n",
        "disp.plot()\n",
        "plt.show()"
      ]
    },
    {
      "cell_type": "code",
      "execution_count": null,
      "metadata": {
        "id": "Bh8y8oQhP3sR",
        "outputId": "96ea3563-6546-4a9e-9cfa-371d50e05635"
      },
      "outputs": [
        {
          "data": {
            "text/plain": [
              "array([[395, 189],\n",
              "       [201, 840]], dtype=int64)"
            ]
          },
          "execution_count": 166,
          "metadata": {},
          "output_type": "execute_result"
        }
      ],
      "source": [
        "wine_confusion"
      ]
    },
    {
      "cell_type": "code",
      "execution_count": null,
      "metadata": {
        "id": "mwALsGWFP3sS",
        "outputId": "262e4ace-9728-441f-e660-172bfcbabaf8"
      },
      "outputs": [
        {
          "name": "stdout",
          "output_type": "stream",
          "text": [
            "Metrica de F1:  0.8115942028985509\n"
          ]
        }
      ],
      "source": [
        "from sklearn.metrics import f1_score\n",
        "\n",
        "result_f1 = f1_score (y_wine_test, wine_quality_predict)\n",
        "print(\"Metrica de F1: \", result_f1)"
      ]
    },
    {
      "cell_type": "markdown",
      "metadata": {
        "id": "f3kMG_lmP3sS"
      },
      "source": [
        "d) Entrene un ensamblador de árboles de múltiples niveles, mediante la técnica de Random Forest. Varíe la\n",
        "cantidad de árboles de decisión utilizados en el ensamblado (n estimators), realice un gráfico resumen\n",
        "del F1-score de entrenamiento y de pruebas en función de este hiper-parámetro.\n",
        "\n",
        "```python\n",
        "1 from sklearn.ensemble import RandomForestClassifier\n",
        "2 model = RandomForestClassifier(n_estimators=, max_depth=,n_jobs=-1)\n",
        "```"
      ]
    },
    {
      "cell_type": "code",
      "execution_count": null,
      "metadata": {
        "id": "0lqPyls7P3sS"
      },
      "outputs": [],
      "source": [
        "import random as rnd"
      ]
    },
    {
      "cell_type": "code",
      "execution_count": null,
      "metadata": {
        "id": "ri5XJcS-P3sS"
      },
      "outputs": [],
      "source": [
        "#Versión antigua, no ejecutar\n",
        "from sklearn.ensemble import RandomForestClassifier\n",
        "\n",
        "rforest1 = RandomForestClassifier(n_estimators=2,n_jobs=-1)\n",
        "rforest2 = RandomForestClassifier(n_estimators=5,n_jobs=-1)\n",
        "rforest3 = RandomForestClassifier(n_estimators=15,n_jobs=-1)\n",
        "\n",
        "rforest1.fit(x_wine_train, y_wine_train)\n",
        "rforest2.fit(x_wine_train, y_wine_train)\n",
        "rforest3.fit(x_wine_train, y_wine_train)\n",
        "\n",
        "predict_rforest1 = rforest1.predict(x_wine_test)\n",
        "predict_rforest2 = rforest2.predict(x_wine_test)\n",
        "predict_rforest3 = rforest3.predict(x_wine_test)\n",
        "\n",
        "graph1_rf_f1  = f1_score(y_wine_test, predict_rforest1, average='macro')\n",
        "graph2_rf_f1  = f1_score(y_wine_test, predict_rforest2, average='macro')\n",
        "graph3_rf_f1  = f1_score(y_wine_test, predict_rforest3, average='macro')"
      ]
    },
    {
      "cell_type": "markdown",
      "metadata": {
        "id": "PHHd19hmP3sS"
      },
      "source": [
        "El bloque de arriba corresponde a una manera bruta y arcaica de realizar el código, el siguiente bloque es la forma optimizada"
      ]
    },
    {
      "cell_type": "code",
      "execution_count": null,
      "metadata": {
        "id": "OQtUPzQGP3sS"
      },
      "outputs": [],
      "source": [
        "from sklearn.ensemble import RandomForestClassifier\n",
        "\n",
        "rforest = []\n",
        "predict_rforest = []\n",
        "graph_rf_f1 = []\n",
        "\n",
        "rforest.append(RandomForestClassifier(n_estimators=2,n_jobs=-1))\n",
        "rforest.append(RandomForestClassifier(n_estimators=4,n_jobs=-1))\n",
        "rforest.append(RandomForestClassifier(n_estimators=15,n_jobs=-1))\n",
        "\n",
        "for i in range(len(rforest)):\n",
        "    rforest[i].fit(x_wine_train,y_wine_train)\n",
        "    predict_rforest.append(rforest[i].predict(x_wine_test))\n",
        "    graph_rf_f1.append(f1_score(y_wine_test,predict_rforest[i], average=\"macro\"))"
      ]
    },
    {
      "cell_type": "code",
      "execution_count": null,
      "metadata": {
        "id": "NoD4Ptm9P3sS",
        "outputId": "5437861e-01bf-47c1-d1f6-e42eb8c898f6"
      },
      "outputs": [
        {
          "data": {
            "text/plain": [
              "0.7945290097054857"
            ]
          },
          "execution_count": 182,
          "metadata": {},
          "output_type": "execute_result"
        }
      ],
      "source": [
        "De esta manera puedo agregar todos los rforest que desee y el código va a tratar cantidades indefinidas de listas"
      ]
    },
    {
      "cell_type": "code",
      "execution_count": null,
      "metadata": {
        "id": "GFj_pB71P3sT"
      },
      "outputs": [],
      "source": [
        "import matplotlib.pylab as plt"
      ]
    },
    {
      "cell_type": "code",
      "execution_count": null,
      "metadata": {
        "id": "Ouoa4vBiP3sT",
        "outputId": "ed4f64cb-6c94-4b84-bfd8-aa8be61b6848"
      },
      "outputs": [
        {
          "data": {
            "image/png": "[encoded data removed]",
            "text/plain": [
              "<Figure size 360x360 with 1 Axes>"
            ]
          },
          "metadata": {
            "needs_background": "light"
          },
          "output_type": "display_data"
        },
        {
          "name": "stdout",
          "output_type": "stream",
          "text": [
            "[0.7188607256219088, 0.7681309691412046, 0.7945290097054857]\n"
          ]
        }
      ],
      "source": [
        "# plt.bar(range(1,4),[graph1_rf_f1,graph2_rf_f1,graph3_rf_f1], color=\"green\")\n",
        "\n",
        "plt.bar(range(1,len(graph_rf_f1)+1),graph_rf_f1, color=\"lawngreen\")\n",
        "plt.xticks(np.arange(1, len(graph_rf_f1)+1, step=1))\n",
        "plt.show()\n",
        "print(graph_rf_f1)"
      ]
    },
    {
      "cell_type": "code",
      "execution_count": null,
      "metadata": {
        "id": "2Rv5JMJ0P3sT",
        "outputId": "2689b84b-7fba-4805-ec9a-1b9261df0511"
      },
      "outputs": [
        {
          "ename": "SyntaxError",
          "evalue": "invalid syntax (269350156.py, line 1)",
          "output_type": "error",
          "traceback": [
            "\u001b[1;36m  Input \u001b[1;32mIn [218]\u001b[1;36m\u001b[0m\n\u001b[1;33m    por lo visto\u001b[0m\n\u001b[1;37m        ^\u001b[0m\n\u001b[1;31mSyntaxError\u001b[0m\u001b[1;31m:\u001b[0m invalid syntax\n"
          ]
        }
      ],
      "source": [
        "por lo visto "
      ]
    },
    {
      "cell_type": "markdown",
      "metadata": {
        "id": "9EpI3rh7P3sT"
      },
      "source": [
        "e) Entrene un ensamblador de árboles de múltiples niveles, mediante la técnica de AdaBoost. Varíe la\n",
        "cantidad de árboles de decisión utilizados en el ensamblado (n estimators), realice un gráfico resumen\n",
        "del F1-score de entrenamiento y de pruebas en función de este hiper-parámetro. Compare y analice con\n",
        "la técnica utilizada en d).\n",
        "\n",
        "```python\n",
        "1 from sklearn.ensemble import AdaBoostClassifier\n",
        "2 model = AdaBoostClassifier(base_estimator=Tree(max_depth=), n_estimators=)\n",
        "```"
      ]
    },
    {
      "cell_type": "code",
      "execution_count": null,
      "metadata": {
        "id": "a3IiC4teP3sT"
      },
      "outputs": [],
      "source": [
        "#Manera antigua y poco óptima\n",
        "from sklearn.ensemble import AdaBoostClassifier\n",
        "adaBoost1 = AdaBoostClassifier(n_estimators=5)\n",
        "adaBoost2 = AdaBoostClassifier(n_estimators=18)\n",
        "adaBoost3 = AdaBoostClassifier(n_estimators=25)\n",
        "\n",
        "adaBoost1.fit(x_wine_train, y_wine_train)\n",
        "adaBoost2.fit(x_wine_train, y_wine_train)\n",
        "adaBoost3.fit(x_wine_train, y_wine_train)\n",
        "\n",
        "predict_adaBoost1 = adaBoost1.predict(x_wine_test)\n",
        "predict_adaBoost2 = adaBoost2.predict(x_wine_test)\n",
        "predict_adaBoost3 = adaBoost3.predict(x_wine_test)\n",
        "\n",
        "graph1_ab_f1  = f1_score(y_wine_test, predict_adaBoost1, average='macro')\n",
        "graph2_ab_f1  = f1_score(y_wine_test, predict_adaBoost2, average='macro')\n",
        "graph3_ab_f1  = f1_score(y_wine_test, predict_adaBoost3, average='macro')"
      ]
    },
    {
      "cell_type": "markdown",
      "metadata": {
        "id": "Vu11oeKqP3sT"
      },
      "source": [
        "El bloque de arriba, al igual que en la pregunta D, es ka versión antigua y un tanto arcaica, el bloque siguiente contiene  la versión mejorada la cual es escalable a cualquier cantidad de elementos en la lista adaBoost,"
      ]
    },
    {
      "cell_type": "code",
      "execution_count": null,
      "metadata": {
        "id": "K0NEn0t3P3sT"
      },
      "outputs": [],
      "source": [
        "from sklearn.ensemble import AdaBoostClassifier\n",
        "\n",
        "adaBoost = []\n",
        "predict_adaBoost = []\n",
        "graph_ab_f1 = []\n",
        "\n",
        "adaBoost.append(AdaBoostClassifier(n_estimators=5))\n",
        "adaBoost.append(AdaBoostClassifier(n_estimators=15))\n",
        "adaBoost.append(AdaBoostClassifier(n_estimators=25))\n",
        "\n",
        "for i in range(len(adaBoost)):\n",
        "    adaBoost[i].fit(x_wine_train,y_wine_train)\n",
        "    predict_adaBoost.append(adaBoost[i].predict(x_wine_test))\n",
        "    graph_ab_f1.append(f1_score(y_wine_test,predict_adaBoost[i], average=\"macro\"))"
      ]
    },
    {
      "cell_type": "code",
      "execution_count": null,
      "metadata": {
        "id": "DY0pClMuP3sU",
        "outputId": "b14cef49-5752-4d18-b23a-7bf6126a5b4b"
      },
      "outputs": [
        {
          "data": {
            "image/png": "[encoded data removed]",
            "text/plain": [
              "<Figure size 360x360 with 1 Axes>"
            ]
          },
          "metadata": {
            "needs_background": "light"
          },
          "output_type": "display_data"
        },
        {
          "name": "stdout",
          "output_type": "stream",
          "text": [
            "[0.6580055829027764, 0.6942007995530314, 0.7034110764710172]\n"
          ]
        }
      ],
      "source": [
        "#plt.bar(range(1,4),[graph1_ab_f1, graph2_ab_f1, graph3_ab_f1], color=\"blue\")\n",
        "plt.bar(range(1,len(graph_rf_f1)+1),graph_ab_f1, color=\"deepskyblue\")\n",
        "plt.xticks(np.arange(1, 4, step=1))\n",
        "plt.show()\n",
        "print(graph_ab_f1)"
      ]
    },
    {
      "cell_type": "code",
      "execution_count": null,
      "metadata": {
        "id": "A_0QOAOAP3sU",
        "outputId": "759ae77c-ca25-4c99-b66c-bdbe7c9589fb"
      },
      "outputs": [
        {
          "data": {
            "image/png": "[encoded data removed]",
            "text/plain": [
              "<Figure size 360x360 with 1 Axes>"
            ]
          },
          "metadata": {
            "needs_background": "light"
          },
          "output_type": "display_data"
        }
      ],
      "source": [
        "fig = plt.figure()\n",
        "fig1 = fig.add_axes([0,0,1,1])\n",
        "\n",
        "for i in range(len(graph_rf_f1)):\n",
        "    fig1.bar(i+0.75,graph_rf_f1[i], color=\"lawngreen\")\n",
        "for i in range(len(graph_ab_f1)):\n",
        "    fig1.bar(i+1.25,graph_ab_f1, color=\"deepskyblue\")\n",
        "    \n",
        "plt.xticks(np.arange(1, max(len(graph_rf_f1)+1,len(graph_ab_f1)+1)))\n",
        "plt.show()\n"
      ]
    },
    {
      "cell_type": "code",
      "execution_count": null,
      "metadata": {
        "id": "mfUlITh3P3sU"
      },
      "outputs": [],
      "source": []
    },
    {
      "cell_type": "code",
      "execution_count": null,
      "metadata": {
        "id": "PkIKaGErP3sU",
        "outputId": "3adec830-df53-4a1b-9b1e-2592f4a280e9"
      },
      "outputs": [
        {
          "data": {
            "text/plain": [
              "3"
            ]
          },
          "execution_count": 121,
          "metadata": {},
          "output_type": "execute_result"
        }
      ],
      "source": [
        "len(l_rforest)"
      ]
    },
    {
      "cell_type": "code",
      "execution_count": null,
      "metadata": {
        "id": "ENgChTQSP3sU"
      },
      "outputs": [],
      "source": [
        "# Versión antigua, no es óptimo usarla y fue antes de optimizar el código\n",
        "fig = plt.figure()\n",
        "fig1 = fig.add_axes([0,0,1,1])\n",
        "\n",
        "l_rforest  = []\n",
        "l_adaboost = []\n",
        "\n",
        "l_rforest.append(graph1_rf_f1)\n",
        "l_rforest.append(graph2_rf_f1)\n",
        "l_rforest.append(graph3_rf_f1)\n",
        "\n",
        "l_adaboost.append(graph1_ab_f1)\n",
        "l_adaboost.append(graph2_ab_f1)\n",
        "l_adaboost.append(graph3_ab_f1)\n",
        "\n",
        "numtags = np.arange(1,3)\n",
        "\n",
        "for i in range(len(l_rforest)):\n",
        "    fig1.bar(i+0.75,l_rforest[i], color=\"green\")\n",
        "for i in range(len(l_adaboost)):\n",
        "    fig1.bar(i+1.25,l_adaboost[i], color=\"orangered\")\n",
        "    \n",
        "plt.xticks(np.arange(1, 4, step=1))\n",
        "plt.show()\n"
      ]
    }
  ],
  "metadata": {
    "kernelspec": {
      "display_name": "Python 3 (ipykernel)",
      "language": "python",
      "name": "python3"
    },
    "language_info": {
      "codemirror_mode": {
        "name": "ipython",
        "version": 3
      },
      "file_extension": ".py",
      "mimetype": "text/x-python",
      "name": "python",
      "nbconvert_exporter": "python",
      "pygments_lexer": "ipython3",
      "version": "3.9.12"
    },
    "colab": {
      "provenance": []
    }
  },
  "nbformat": 4,
  "nbformat_minor": 0
}